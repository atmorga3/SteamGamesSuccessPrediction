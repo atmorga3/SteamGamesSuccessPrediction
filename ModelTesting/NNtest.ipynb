{
 "cells": [
  {
   "cell_type": "code",
   "execution_count": 2,
   "metadata": {},
   "outputs": [],
   "source": [
    "import torch\n",
    "import torch.nn as nn\n",
    "import torch.utils.data as data\n",
    "import torch.optim as optim\n",
    "import matplotlib.pyplot as plt\n",
    "import pandas as pd\n",
    "import numpy as np\n",
    "\n",
    "import sys; sys.path.append('../..') ; sys.path.append('../Dataset/'); \n",
    "from dataset import steamGamesDataset\n",
    "\n",
    "sys.path.append('../Models/')\n",
    "from autoEncoder import AutoEncoder\n"
   ]
  },
  {
   "cell_type": "code",
   "execution_count": 3,
   "metadata": {},
   "outputs": [
    {
     "name": "stdout",
     "output_type": "stream",
     "text": [
      "Is CUDA supported by this system? True\n",
      "CUDA version: 12.1\n",
      "ID of current CUDA device: 0\n",
      "Name of current CUDA device: NVIDIA GeForce RTX 4070\n"
     ]
    }
   ],
   "source": [
    "print(f\"Is CUDA supported by this system? {torch.cuda.is_available()}\")\n",
    "print(f\"CUDA version: {torch.version.cuda}\")\n",
    " \n",
    "# Storing ID of current CUDA device\n",
    "cuda_id = torch.cuda.current_device()\n",
    "print(f\"ID of current CUDA device: {torch.cuda.current_device()}\")\n",
    "\t   \n",
    "print(f\"Name of current CUDA device: {torch.cuda.get_device_name(cuda_id)}\")\n",
    "\n",
    "device = torch.device('cuda')\n"
   ]
  },
  {
   "cell_type": "code",
   "execution_count": 3,
   "metadata": {},
   "outputs": [],
   "source": [
    "lhs_df = pd.read_csv('../Data/lhsDataset.csv')\n",
    "\n",
    "onehot = pd.read_csv('../Data/OneHotVectors.csv',)\n",
    "# print(onehot.iloc[0])\n",
    "\n",
    "rhs_df = pd.read_csv('../Data/rhs.csv')\n",
    "rhs_df = rhs_df['Median playtime forever']\n"
   ]
  },
  {
   "cell_type": "markdown",
   "metadata": {},
   "source": [
    "Normalize\n"
   ]
  },
  {
   "cell_type": "code",
   "execution_count": null,
   "metadata": {},
   "outputs": [],
   "source": [
    "lhs_df = (lhs_df.astype('Float64') - lhs_df.astype('Float64').min()) / (lhs_df.astype('Float64').max() - lhs_df.astype('Float64').min())\n"
   ]
  },
  {
   "cell_type": "code",
   "execution_count": 3,
   "metadata": {},
   "outputs": [],
   "source": [
    "dataset = steamGamesDataset(lhs_df, rhs_df)\n",
    "dataloader = data.DataLoader(dataset)\n"
   ]
  },
  {
   "cell_type": "code",
   "execution_count": 11,
   "metadata": {},
   "outputs": [],
   "source": [
    "autoEncoder_dataset = steamGamesDataset(onehot, onehot)\n",
    "autoEncoder_dataloader = data.DataLoader(autoEncoder_dataset, batch_size=512)\n"
   ]
  },
  {
   "cell_type": "code",
   "execution_count": 12,
   "metadata": {},
   "outputs": [],
   "source": [
    "model = AutoEncoder(834, 1, device=device).to(device)\n",
    "loss_function = nn.MSELoss()\n",
    "optimizer = torch.optim.Adam(model.parameters(), lr = 1e-1, weight_decay = 1e-8)\n"
   ]
  },
  {
   "cell_type": "code",
   "execution_count": 13,
   "metadata": {},
   "outputs": [
    {
     "name": "stderr",
     "output_type": "stream",
     "text": [
      "c:\\Users\\speed\\OneDrive - Arizona State University\\School\\Masters\\CSE572\\Project\\SteamGamesSuccessPrediction\\ModelTesting\\../Dataset\\dataset.py:17: FutureWarning: Series.__getitem__ treating keys as positions is deprecated. In a future version, integer keys will always be treated as labels (consistent with DataFrame behavior). To access a value by position, use `ser.iloc[pos]`\n",
      "  inp_features = torch.tensor(self.lhs_df.iloc[index]).to(torch.float32)\n",
      "c:\\Users\\speed\\OneDrive - Arizona State University\\School\\Masters\\CSE572\\Project\\SteamGamesSuccessPrediction\\ModelTesting\\../Dataset\\dataset.py:18: FutureWarning: Series.__getitem__ treating keys as positions is deprecated. In a future version, integer keys will always be treated as labels (consistent with DataFrame behavior). To access a value by position, use `ser.iloc[pos]`\n",
      "  value = torch.tensor(self.rhs_df.iloc[index]).to(torch.float32)\n"
     ]
    },
    {
     "ename": "TypeError",
     "evalue": "can't convert cuda:0 device type tensor to numpy. Use Tensor.cpu() to copy the tensor to host memory first.",
     "output_type": "error",
     "traceback": [
      "\u001b[1;31m---------------------------------------------------------------------------\u001b[0m",
      "\u001b[1;31mTypeError\u001b[0m                                 Traceback (most recent call last)",
      "Input \u001b[1;32mIn [13]\u001b[0m, in \u001b[0;36m<module>\u001b[1;34m\u001b[0m\n\u001b[0;32m     31\u001b[0m plt\u001b[38;5;241m.\u001b[39mylabel(\u001b[38;5;124m'\u001b[39m\u001b[38;5;124mLoss\u001b[39m\u001b[38;5;124m'\u001b[39m)\n\u001b[0;32m     33\u001b[0m \u001b[38;5;66;03m# Plotting the last 100 values\u001b[39;00m\n\u001b[1;32m---> 34\u001b[0m \u001b[43mplt\u001b[49m\u001b[38;5;241;43m.\u001b[39;49m\u001b[43mplot\u001b[49m\u001b[43m(\u001b[49m\u001b[43mlosses\u001b[49m\u001b[43m[\u001b[49m\u001b[38;5;241;43m-\u001b[39;49m\u001b[38;5;241;43m100\u001b[39;49m\u001b[43m:\u001b[49m\u001b[43m]\u001b[49m\u001b[43m)\u001b[49m\n",
      "File \u001b[1;32mc:\\Users\\speed\\AppData\\Local\\Programs\\Python\\Python310\\lib\\site-packages\\matplotlib\\pyplot.py:2748\u001b[0m, in \u001b[0;36mplot\u001b[1;34m(scalex, scaley, data, *args, **kwargs)\u001b[0m\n\u001b[0;32m   2746\u001b[0m \u001b[38;5;129m@_copy_docstring_and_deprecators\u001b[39m(Axes\u001b[38;5;241m.\u001b[39mplot)\n\u001b[0;32m   2747\u001b[0m \u001b[38;5;28;01mdef\u001b[39;00m \u001b[38;5;21mplot\u001b[39m(\u001b[38;5;241m*\u001b[39margs, scalex\u001b[38;5;241m=\u001b[39m\u001b[38;5;28;01mTrue\u001b[39;00m, scaley\u001b[38;5;241m=\u001b[39m\u001b[38;5;28;01mTrue\u001b[39;00m, data\u001b[38;5;241m=\u001b[39m\u001b[38;5;28;01mNone\u001b[39;00m, \u001b[38;5;241m*\u001b[39m\u001b[38;5;241m*\u001b[39mkwargs):\n\u001b[1;32m-> 2748\u001b[0m     \u001b[38;5;28;01mreturn\u001b[39;00m gca()\u001b[38;5;241m.\u001b[39mplot(\n\u001b[0;32m   2749\u001b[0m         \u001b[38;5;241m*\u001b[39margs, scalex\u001b[38;5;241m=\u001b[39mscalex, scaley\u001b[38;5;241m=\u001b[39mscaley,\n\u001b[0;32m   2750\u001b[0m         \u001b[38;5;241m*\u001b[39m\u001b[38;5;241m*\u001b[39m({\u001b[38;5;124m\"\u001b[39m\u001b[38;5;124mdata\u001b[39m\u001b[38;5;124m\"\u001b[39m: data} \u001b[38;5;28;01mif\u001b[39;00m data \u001b[38;5;129;01mis\u001b[39;00m \u001b[38;5;129;01mnot\u001b[39;00m \u001b[38;5;28;01mNone\u001b[39;00m \u001b[38;5;28;01melse\u001b[39;00m {}), \u001b[38;5;241m*\u001b[39m\u001b[38;5;241m*\u001b[39mkwargs)\n",
      "File \u001b[1;32mc:\\Users\\speed\\AppData\\Local\\Programs\\Python\\Python310\\lib\\site-packages\\matplotlib\\axes\\_axes.py:1668\u001b[0m, in \u001b[0;36mAxes.plot\u001b[1;34m(self, scalex, scaley, data, *args, **kwargs)\u001b[0m\n\u001b[0;32m   1425\u001b[0m \u001b[38;5;124;03m\"\"\"\u001b[39;00m\n\u001b[0;32m   1426\u001b[0m \u001b[38;5;124;03mPlot y versus x as lines and/or markers.\u001b[39;00m\n\u001b[0;32m   1427\u001b[0m \n\u001b[1;32m   (...)\u001b[0m\n\u001b[0;32m   1665\u001b[0m \u001b[38;5;124;03m(``'green'``) or hex strings (``'#008000'``).\u001b[39;00m\n\u001b[0;32m   1666\u001b[0m \u001b[38;5;124;03m\"\"\"\u001b[39;00m\n\u001b[0;32m   1667\u001b[0m kwargs \u001b[38;5;241m=\u001b[39m cbook\u001b[38;5;241m.\u001b[39mnormalize_kwargs(kwargs, mlines\u001b[38;5;241m.\u001b[39mLine2D)\n\u001b[1;32m-> 1668\u001b[0m lines \u001b[38;5;241m=\u001b[39m [\u001b[38;5;241m*\u001b[39m\u001b[38;5;28mself\u001b[39m\u001b[38;5;241m.\u001b[39m_get_lines(\u001b[38;5;241m*\u001b[39margs, data\u001b[38;5;241m=\u001b[39mdata, \u001b[38;5;241m*\u001b[39m\u001b[38;5;241m*\u001b[39mkwargs)]\n\u001b[0;32m   1669\u001b[0m \u001b[38;5;28;01mfor\u001b[39;00m line \u001b[38;5;129;01min\u001b[39;00m lines:\n\u001b[0;32m   1670\u001b[0m     \u001b[38;5;28mself\u001b[39m\u001b[38;5;241m.\u001b[39madd_line(line)\n",
      "File \u001b[1;32mc:\\Users\\speed\\AppData\\Local\\Programs\\Python\\Python310\\lib\\site-packages\\matplotlib\\axes\\_base.py:311\u001b[0m, in \u001b[0;36m_process_plot_var_args.__call__\u001b[1;34m(self, data, *args, **kwargs)\u001b[0m\n\u001b[0;32m    309\u001b[0m     this \u001b[38;5;241m+\u001b[39m\u001b[38;5;241m=\u001b[39m args[\u001b[38;5;241m0\u001b[39m],\n\u001b[0;32m    310\u001b[0m     args \u001b[38;5;241m=\u001b[39m args[\u001b[38;5;241m1\u001b[39m:]\n\u001b[1;32m--> 311\u001b[0m \u001b[38;5;28;01myield from\u001b[39;00m \u001b[38;5;28;43mself\u001b[39;49m\u001b[38;5;241;43m.\u001b[39;49m\u001b[43m_plot_args\u001b[49m\u001b[43m(\u001b[49m\n\u001b[0;32m    312\u001b[0m \u001b[43m    \u001b[49m\u001b[43mthis\u001b[49m\u001b[43m,\u001b[49m\u001b[43m \u001b[49m\u001b[43mkwargs\u001b[49m\u001b[43m,\u001b[49m\u001b[43m \u001b[49m\u001b[43mambiguous_fmt_datakey\u001b[49m\u001b[38;5;241;43m=\u001b[39;49m\u001b[43mambiguous_fmt_datakey\u001b[49m\u001b[43m)\u001b[49m\n",
      "File \u001b[1;32mc:\\Users\\speed\\AppData\\Local\\Programs\\Python\\Python310\\lib\\site-packages\\matplotlib\\axes\\_base.py:496\u001b[0m, in \u001b[0;36m_process_plot_var_args._plot_args\u001b[1;34m(self, tup, kwargs, return_kwargs, ambiguous_fmt_datakey)\u001b[0m\n\u001b[0;32m    494\u001b[0m     y \u001b[38;5;241m=\u001b[39m _check_1d(xy[\u001b[38;5;241m1\u001b[39m])\n\u001b[0;32m    495\u001b[0m \u001b[38;5;28;01melse\u001b[39;00m:\n\u001b[1;32m--> 496\u001b[0m     x, y \u001b[38;5;241m=\u001b[39m \u001b[43mindex_of\u001b[49m\u001b[43m(\u001b[49m\u001b[43mxy\u001b[49m\u001b[43m[\u001b[49m\u001b[38;5;241;43m-\u001b[39;49m\u001b[38;5;241;43m1\u001b[39;49m\u001b[43m]\u001b[49m\u001b[43m)\u001b[49m\n\u001b[0;32m    498\u001b[0m \u001b[38;5;28;01mif\u001b[39;00m \u001b[38;5;28mself\u001b[39m\u001b[38;5;241m.\u001b[39maxes\u001b[38;5;241m.\u001b[39mxaxis \u001b[38;5;129;01mis\u001b[39;00m \u001b[38;5;129;01mnot\u001b[39;00m \u001b[38;5;28;01mNone\u001b[39;00m:\n\u001b[0;32m    499\u001b[0m     \u001b[38;5;28mself\u001b[39m\u001b[38;5;241m.\u001b[39maxes\u001b[38;5;241m.\u001b[39mxaxis\u001b[38;5;241m.\u001b[39mupdate_units(x)\n",
      "File \u001b[1;32mc:\\Users\\speed\\AppData\\Local\\Programs\\Python\\Python310\\lib\\site-packages\\matplotlib\\cbook\\__init__.py:1690\u001b[0m, in \u001b[0;36mindex_of\u001b[1;34m(y)\u001b[0m\n\u001b[0;32m   1688\u001b[0m     \u001b[38;5;28;01mpass\u001b[39;00m\n\u001b[0;32m   1689\u001b[0m \u001b[38;5;28;01mtry\u001b[39;00m:\n\u001b[1;32m-> 1690\u001b[0m     y \u001b[38;5;241m=\u001b[39m \u001b[43m_check_1d\u001b[49m\u001b[43m(\u001b[49m\u001b[43my\u001b[49m\u001b[43m)\u001b[49m\n\u001b[0;32m   1691\u001b[0m \u001b[38;5;28;01mexcept\u001b[39;00m (np\u001b[38;5;241m.\u001b[39mVisibleDeprecationWarning, \u001b[38;5;167;01mValueError\u001b[39;00m):\n\u001b[0;32m   1692\u001b[0m     \u001b[38;5;66;03m# NumPy 1.19 will warn on ragged input, and we can't actually use it.\u001b[39;00m\n\u001b[0;32m   1693\u001b[0m     \u001b[38;5;28;01mpass\u001b[39;00m\n",
      "File \u001b[1;32mc:\\Users\\speed\\AppData\\Local\\Programs\\Python\\Python310\\lib\\site-packages\\matplotlib\\cbook\\__init__.py:1382\u001b[0m, in \u001b[0;36m_check_1d\u001b[1;34m(x)\u001b[0m\n\u001b[0;32m   1376\u001b[0m \u001b[38;5;66;03m# plot requires `shape` and `ndim`.  If passed an\u001b[39;00m\n\u001b[0;32m   1377\u001b[0m \u001b[38;5;66;03m# object that doesn't provide them, then force to numpy array.\u001b[39;00m\n\u001b[0;32m   1378\u001b[0m \u001b[38;5;66;03m# Note this will strip unit information.\u001b[39;00m\n\u001b[0;32m   1379\u001b[0m \u001b[38;5;28;01mif\u001b[39;00m (\u001b[38;5;129;01mnot\u001b[39;00m \u001b[38;5;28mhasattr\u001b[39m(x, \u001b[38;5;124m'\u001b[39m\u001b[38;5;124mshape\u001b[39m\u001b[38;5;124m'\u001b[39m) \u001b[38;5;129;01mor\u001b[39;00m\n\u001b[0;32m   1380\u001b[0m         \u001b[38;5;129;01mnot\u001b[39;00m \u001b[38;5;28mhasattr\u001b[39m(x, \u001b[38;5;124m'\u001b[39m\u001b[38;5;124mndim\u001b[39m\u001b[38;5;124m'\u001b[39m) \u001b[38;5;129;01mor\u001b[39;00m\n\u001b[0;32m   1381\u001b[0m         \u001b[38;5;28mlen\u001b[39m(x\u001b[38;5;241m.\u001b[39mshape) \u001b[38;5;241m<\u001b[39m \u001b[38;5;241m1\u001b[39m):\n\u001b[1;32m-> 1382\u001b[0m     \u001b[38;5;28;01mreturn\u001b[39;00m \u001b[43mnp\u001b[49m\u001b[38;5;241;43m.\u001b[39;49m\u001b[43matleast_1d\u001b[49m\u001b[43m(\u001b[49m\u001b[43mx\u001b[49m\u001b[43m)\u001b[49m\n\u001b[0;32m   1383\u001b[0m \u001b[38;5;28;01melse\u001b[39;00m:\n\u001b[0;32m   1384\u001b[0m     \u001b[38;5;28;01mreturn\u001b[39;00m x\n",
      "File \u001b[1;32m<__array_function__ internals>:180\u001b[0m, in \u001b[0;36matleast_1d\u001b[1;34m(*args, **kwargs)\u001b[0m\n",
      "File \u001b[1;32mc:\\Users\\speed\\AppData\\Local\\Programs\\Python\\Python310\\lib\\site-packages\\numpy\\core\\shape_base.py:65\u001b[0m, in \u001b[0;36matleast_1d\u001b[1;34m(*arys)\u001b[0m\n\u001b[0;32m     63\u001b[0m res \u001b[38;5;241m=\u001b[39m []\n\u001b[0;32m     64\u001b[0m \u001b[38;5;28;01mfor\u001b[39;00m ary \u001b[38;5;129;01min\u001b[39;00m arys:\n\u001b[1;32m---> 65\u001b[0m     ary \u001b[38;5;241m=\u001b[39m \u001b[43masanyarray\u001b[49m\u001b[43m(\u001b[49m\u001b[43mary\u001b[49m\u001b[43m)\u001b[49m\n\u001b[0;32m     66\u001b[0m     \u001b[38;5;28;01mif\u001b[39;00m ary\u001b[38;5;241m.\u001b[39mndim \u001b[38;5;241m==\u001b[39m \u001b[38;5;241m0\u001b[39m:\n\u001b[0;32m     67\u001b[0m         result \u001b[38;5;241m=\u001b[39m ary\u001b[38;5;241m.\u001b[39mreshape(\u001b[38;5;241m1\u001b[39m)\n",
      "File \u001b[1;32mc:\\Users\\speed\\AppData\\Local\\Programs\\Python\\Python310\\lib\\site-packages\\torch\\_tensor.py:1062\u001b[0m, in \u001b[0;36mTensor.__array__\u001b[1;34m(self, dtype)\u001b[0m\n\u001b[0;32m   1060\u001b[0m     \u001b[38;5;28;01mreturn\u001b[39;00m handle_torch_function(Tensor\u001b[38;5;241m.\u001b[39m__array__, (\u001b[38;5;28mself\u001b[39m,), \u001b[38;5;28mself\u001b[39m, dtype\u001b[38;5;241m=\u001b[39mdtype)\n\u001b[0;32m   1061\u001b[0m \u001b[38;5;28;01mif\u001b[39;00m dtype \u001b[38;5;129;01mis\u001b[39;00m \u001b[38;5;28;01mNone\u001b[39;00m:\n\u001b[1;32m-> 1062\u001b[0m     \u001b[38;5;28;01mreturn\u001b[39;00m \u001b[38;5;28;43mself\u001b[39;49m\u001b[38;5;241;43m.\u001b[39;49m\u001b[43mnumpy\u001b[49m\u001b[43m(\u001b[49m\u001b[43m)\u001b[49m\n\u001b[0;32m   1063\u001b[0m \u001b[38;5;28;01melse\u001b[39;00m:\n\u001b[0;32m   1064\u001b[0m     \u001b[38;5;28;01mreturn\u001b[39;00m \u001b[38;5;28mself\u001b[39m\u001b[38;5;241m.\u001b[39mnumpy()\u001b[38;5;241m.\u001b[39mastype(dtype, copy\u001b[38;5;241m=\u001b[39m\u001b[38;5;28;01mFalse\u001b[39;00m)\n",
      "\u001b[1;31mTypeError\u001b[0m: can't convert cuda:0 device type tensor to numpy. Use Tensor.cpu() to copy the tensor to host memory first."
     ]
    },
    {
     "data": {
      "image/png": "[encoded data removed]",
      "text/plain": [
       "<Figure size 432x288 with 1 Axes>"
      ]
     },
     "metadata": {
      "needs_background": "light"
     },
     "output_type": "display_data"
    }
   ],
   "source": [
    "epochs = 20\n",
    "outputs = []\n",
    "losses = []\n",
    "for epoch in range(1):\n",
    "\tfor (image, output) in autoEncoder_dataloader:\n",
    "\t\timage = image.to(device)\n",
    "\t\toutput = output.to(device)\n",
    "\t  # Reshaping the image to (-1, 784)\n",
    "\t#   image = image.reshape(-1, 28*28)\n",
    "\t   \n",
    "\t  # Output of Autoencoder\n",
    "\t\treconstructed = model(image)\n",
    "\t   \n",
    "\t  # Calculating the loss function\n",
    "\t\tloss = loss_function(reconstructed, image)\n",
    "\n",
    "\t\t# The gradients are set to zero,\n",
    "\t\t# the gradient is computed and stored.\n",
    "\t\t# .step() performs parameter update\n",
    "\t\toptimizer.zero_grad()\n",
    "\t\tloss.backward()\n",
    "\t\toptimizer.step()\n",
    "\n",
    "\t\t# Storing the losses in a list for plotting\n",
    "\t\tlosses.append(loss)\n",
    "\toutputs.append((epochs, image, reconstructed))\n",
    " \n",
    "# Defining the Plot Style\n",
    "plt.style.use('fivethirtyeight')\n",
    "plt.xlabel('Iterations')\n",
    "plt.ylabel('Loss')\n",
    " \n",
    "# Plotting the last 100 values\n",
    "plt.plot(losses[-100:])\n"
   ]
  },
  {
   "cell_type": "code",
   "execution_count": 30,
   "metadata": {},
   "outputs": [
    {
     "name": "stdout",
     "output_type": "stream",
     "text": [
      "[tensor(541289.7500), tensor(567690.8125), tensor(594720.6250), tensor(622379.1250), tensor(650666.2500), tensor(679581.9375), tensor(709126.2500), tensor(739299.3125), tensor(770100.9375), tensor(801531.2500), tensor(833590.1875), tensor(866277.7500), tensor(899594.), tensor(933538.8125), tensor(968112.3750), tensor(1003314.4375), tensor(1039145.3125), tensor(1075604.7500), tensor(1112692.8750), tensor(1150409.5000), tensor(1188754.8750), tensor(1227728.8750), tensor(1267331.5000), tensor(1307562.8750), tensor(1348422.7500), tensor(1389911.2500), tensor(1432028.6250), tensor(1474774.5000), tensor(1518149.), tensor(1562152.), tensor(1606783.8750), tensor(1652044.3750), tensor(1697933.2500), tensor(1744451.1250), tensor(1791597.3750), tensor(1839372.3750), tensor(1887776.1250), tensor(1936808.3750), tensor(1986469.3750), tensor(2036758.7500), tensor(2087677.1250), tensor(2139224.), tensor(2191399.5000), tensor(2244203.5000), tensor(2297636.5000), tensor(2351697.7500), tensor(2406387.7500), tensor(2461706.5000), tensor(2517654.), tensor(2574230.), tensor(2631434.7500), tensor(2689267.7500), tensor(2747729.7500), tensor(2806820.2500), tensor(2866539.5000), tensor(2926887.2500), tensor(2987863.7500), tensor(3049469.), tensor(3111702.7500), tensor(3174565.2500), tensor(3238056.2500), tensor(3302176.), tensor(3366924.2500), tensor(3432301.2500), tensor(3498307.), tensor(3564941.2500), tensor(3632204.2500), tensor(3700095.7500), tensor(3768616.), tensor(3837764.7500), tensor(3907542.2500), tensor(3977948.5000), tensor(4048983.5000), tensor(4120646.7500), tensor(4192938.7500), tensor(4265859.5000), tensor(4339409.), tensor(4413587.), tensor(4488394.), tensor(4563829.), tensor(4639893.), tensor(4716585.5000), tensor(4793906.5000), tensor(4871856.5000), tensor(4950435.), tensor(5029642.), tensor(5109477.5000), tensor(5189942.), tensor(5271035.), tensor(5352757.), tensor(5435107.5000), tensor(5518086.5000), tensor(5601694.), tensor(5685931.), tensor(5770795.), tensor(5856288.5000), tensor(5942411.), tensor(6029161.5000), tensor(6116541.), tensor(6163535.)]\n"
     ]
    },
    {
     "data": {
      "image/png": "[encoded data removed]",
      "text/plain": [
       "<Figure size 432x288 with 1 Axes>"
      ]
     },
     "metadata": {
      "needs_background": "light"
     },
     "output_type": "display_data"
    }
   ],
   "source": [
    "loss = [loss.detach().cpu() for loss in losses][-100:]\n",
    "plt.plot(loss[-100:])\n",
    "print(loss[-100:])\n"
   ]
  },
  {
   "cell_type": "code",
   "execution_count": 31,
   "metadata": {},
   "outputs": [
    {
     "name": "stdout",
     "output_type": "stream",
     "text": [
      "OrderedDict([('0.weight', tensor([[-9.8656e-06,  1.0964e-05, -3.4155e-07,  ..., -7.9004e-06,\n",
      "          1.0332e-05, -6.9776e-06],\n",
      "        [-1.6927e-04, -1.6149e-06, -1.3199e-06,  ..., -7.3093e-06,\n",
      "          2.2630e-06, -5.4963e-06],\n",
      "        [ 5.7800e-01, -1.1742e-06, -1.5164e-04,  ..., -7.9469e-06,\n",
      "          1.1474e-05,  5.6635e-06],\n",
      "        ...,\n",
      "        [-5.8843e-06, -1.1080e-06,  1.7803e-06,  ...,  4.1961e-06,\n",
      "         -1.0080e-05,  8.7804e-06],\n",
      "        [ 1.7798e-06, -3.3344e-06,  7.4994e-06,  ...,  1.1462e-05,\n",
      "         -6.0074e-08,  1.2579e-05],\n",
      "        [-7.6781e-06,  4.3435e-06, -8.8104e-06,  ...,  4.3650e-06,\n",
      "          1.1113e-05, -1.2778e-05]], device='cuda:0')), ('0.bias', tensor([ 1.2276e-05, -9.8189e-06, -1.3636e-03, -9.9756e-06,  4.9710e-04,\n",
      "        -1.0767e-05,  4.5251e-02, -6.6086e-07,  7.2640e-02, -8.2057e-02,\n",
      "         1.4344e-05, -8.7299e-06,  1.0499e-05, -1.3683e-06, -1.2524e-05,\n",
      "         6.9118e-06, -5.7137e-06, -2.9869e-06,  1.2836e-05, -1.6724e-02,\n",
      "        -1.4164e-01,  6.3442e-06,  1.0960e-01,  1.1412e-01,  1.0782e-06,\n",
      "        -2.0147e-05,  4.7547e-06,  3.1553e-03,  3.0261e-06, -1.1163e-02,\n",
      "        -5.6467e-06, -5.9638e-06, -9.5033e-05,  1.2201e-01,  1.4529e-04,\n",
      "         1.0870e-03, -9.8328e-06,  3.4768e-02,  1.2144e-01, -1.6981e-07,\n",
      "        -3.8866e-06, -6.0820e-06, -4.6566e-06,  6.4674e-06, -1.3659e-05,\n",
      "        -5.9108e-04,  1.1955e-05,  4.0313e-03,  1.7360e-04,  8.1457e-07,\n",
      "         1.0531e-01,  6.2951e-02,  8.1321e-07, -9.7580e-02, -4.7769e-06,\n",
      "         3.2854e-02, -3.2416e-04, -9.3156e-06, -2.1977e-02, -8.0970e-06,\n",
      "         1.2271e-01,  1.6925e-04, -8.3177e-06,  3.0930e-02, -7.2513e-07,\n",
      "        -1.5120e-03,  9.7325e-02,  4.4935e-04,  9.8675e-02, -5.4004e-06,\n",
      "        -1.3746e-05, -9.4752e-06,  8.8692e-07,  1.1180e-05,  9.5186e-06,\n",
      "        -9.6248e-06,  8.6996e-06, -1.2842e-03, -7.0742e-06,  8.2188e-06,\n",
      "        -5.2327e-06,  3.7934e-06,  5.5976e-04, -7.1762e-03,  1.4245e-06,\n",
      "        -7.9512e-03, -1.4752e-03, -2.2885e-01, -2.0640e-06, -8.3475e-06,\n",
      "         1.2579e-01,  4.1224e-04,  1.1760e-05,  2.5874e-06,  1.2910e-01,\n",
      "         5.5432e-02, -1.5494e-03, -7.4223e-06,  6.7250e-02,  3.1955e-06,\n",
      "         1.5840e-02,  6.7977e-06, -1.1450e-05,  1.2836e-05, -1.3503e-03,\n",
      "         4.3704e-06,  1.7061e-03, -3.5367e-06,  5.5534e-06, -9.6315e-06,\n",
      "        -4.5332e-04, -8.5743e-06, -2.3546e-06, -6.9881e-06, -1.7242e-06,\n",
      "         9.4744e-06,  6.4161e-02,  4.4144e-06,  8.8353e-07, -1.5245e-03,\n",
      "         7.7596e-07,  1.3936e-03,  1.7260e-02, -1.1282e-04, -1.1016e-05,\n",
      "         8.2113e-02,  6.0883e-02, -9.7746e-06,  1.1520e-02, -9.8041e-06,\n",
      "         4.9341e-06,  2.1538e-04, -1.2281e-03, -1.1489e-05,  8.8959e-02,\n",
      "        -1.9601e-02, -4.1258e-02,  1.9590e-06, -6.7139e-06, -3.5507e-06,\n",
      "         5.5717e-06,  6.8309e-06,  1.5081e-03, -8.8623e-06,  6.8135e-06,\n",
      "        -7.4525e-02, -7.3470e-07, -4.3356e-02, -2.9484e-06, -5.1999e-02,\n",
      "         1.5537e-02,  1.1359e-05,  8.8250e-06, -5.0701e-06,  2.7827e-06,\n",
      "        -6.1003e-04,  9.2743e-02,  1.3276e-05, -4.4655e-06, -7.9309e-06,\n",
      "        -6.4130e-06,  3.3266e-08, -1.2280e-03,  3.9219e-02,  3.1910e-06,\n",
      "         1.8061e-01,  7.0905e-06, -5.2154e-05,  2.8716e-05, -2.7707e-01,\n",
      "        -1.2938e-03,  1.2359e-05,  4.8065e-06,  7.7887e-06, -5.0414e-06,\n",
      "        -2.9697e-06, -1.5693e-01, -1.1281e-05, -5.3641e-06, -2.5505e-06,\n",
      "         9.9030e-06,  2.4659e-02,  5.9207e-06,  6.0685e-02, -2.2712e-06,\n",
      "         8.1533e-06, -8.2867e-06, -5.0208e-06, -6.1253e-02,  4.9694e-04,\n",
      "        -6.3204e-02, -3.3921e-02, -2.6435e-06, -3.7602e-06, -5.6870e-04,\n",
      "        -4.4646e-06,  9.5525e-02, -8.2804e-02,  7.8703e-05, -8.9924e-04,\n",
      "         1.0219e-07, -4.7484e-06,  1.2149e-05,  6.7678e-06,  5.7768e-04,\n",
      "        -6.6111e-06, -1.4287e-01, -1.2235e-01,  2.6194e-04,  5.3022e-02,\n",
      "        -1.1992e-05, -3.7690e-04, -4.4180e-06, -7.9699e-06,  6.9479e-02,\n",
      "         5.7461e-04, -5.9763e-02, -5.3492e-06,  2.0649e-01,  6.3266e-02,\n",
      "        -1.7303e-01,  1.7295e-06, -4.9795e-02,  1.0073e-05,  9.1276e-06,\n",
      "         6.2455e-06,  9.4732e-07, -2.2908e-06, -1.2456e-05,  3.6387e-06,\n",
      "        -1.9004e-01,  9.3912e-06, -1.0748e-03,  6.8301e-06, -9.0292e-03,\n",
      "         3.4812e-02,  2.3591e-02, -3.0966e-06,  7.3061e-04, -8.3358e-04,\n",
      "         1.5647e-01, -6.5784e-06, -3.8652e-06,  9.3609e-04,  5.4421e-04,\n",
      "         2.0023e-05,  1.5523e-01,  7.0343e-02,  2.8546e-02,  1.1788e-07,\n",
      "        -4.2260e-04, -9.3522e-05,  1.4136e-05,  9.8049e-06,  1.1575e-06,\n",
      "         2.4251e-02,  4.4518e-02,  2.5129e-06,  1.5953e-03, -8.4917e-06,\n",
      "        -4.5661e-03, -1.5465e-05, -8.7196e-06,  5.4274e-02, -1.3352e-05,\n",
      "        -1.2503e-03,  1.4769e-02,  2.7229e-02,  6.8335e-07, -5.1377e-06,\n",
      "        -4.3113e-06, -5.9153e-03, -2.0007e-07,  8.6333e-06,  6.1920e-04,\n",
      "         2.5757e-04, -1.1074e-03,  3.7611e-06,  4.3196e-04, -1.5046e-01,\n",
      "        -1.2887e-03, -4.3237e-04,  8.7650e-06,  1.1323e-01, -1.5268e-01,\n",
      "         2.3236e-05,  5.9088e-05, -1.1351e-06, -9.1014e-04,  2.0577e-05,\n",
      "        -1.0813e-01,  1.3699e-06,  8.4628e-06,  7.1435e-06, -2.3425e-04,\n",
      "        -6.1142e-02,  6.6308e-02,  2.4316e-04,  2.0654e-02, -8.2257e-06,\n",
      "         8.5522e-06, -2.2514e-03, -3.2667e-02, -2.3812e-07, -1.6164e-06,\n",
      "         2.3216e-09,  8.0247e-06,  4.2798e-06,  9.0899e-06,  9.1268e-06,\n",
      "        -5.2391e-04, -6.7188e-06,  9.1021e-06, -3.9216e-02,  4.8290e-06,\n",
      "         1.3464e-01, -1.1874e-04, -1.1471e-05,  1.3353e-06,  2.5386e-05,\n",
      "         1.7084e-06,  4.9546e-06,  1.6863e-02, -3.1127e-06,  1.9715e-02,\n",
      "        -6.6349e-06,  1.3770e-05, -1.4293e-02,  1.2777e-01, -8.1579e-06,\n",
      "         1.4309e-02, -4.8184e-03, -1.0277e-05,  1.1138e-03, -4.0812e-03,\n",
      "        -1.1185e-01,  6.2707e-06, -2.2884e-04, -1.2402e-05, -3.4417e-06,\n",
      "         1.8348e-02,  5.9965e-04, -1.3966e-01,  1.0640e-01,  1.6051e-06,\n",
      "        -1.6282e-05, -5.7471e-04, -2.3462e-02,  4.2334e-08,  7.2658e-07,\n",
      "         1.2003e-03, -3.5404e-02,  6.9145e-06, -3.1300e-06,  7.7388e-02,\n",
      "        -4.9495e-02,  1.3811e-05, -4.1290e-04,  1.5015e-02, -3.3699e-06,\n",
      "        -1.5993e-02,  3.2597e-04,  4.9755e-02, -2.6437e-02, -4.0107e-06,\n",
      "        -9.5248e-02,  1.0472e-05,  1.9633e-01, -1.2407e-05, -7.9864e-02,\n",
      "        -2.3943e-04, -1.1119e-05, -1.2267e-05,  1.1843e-06,  1.2570e-05,\n",
      "        -4.5773e-06,  2.1204e-04,  1.2110e-05, -3.1825e-03,  1.4894e-01,\n",
      "         1.4800e-01,  1.3027e-05,  2.2498e-04, -4.8443e-03,  2.3018e-06,\n",
      "        -9.9780e-06,  7.5235e-05,  2.9942e-02,  6.4555e-05, -7.6354e-06,\n",
      "         1.1048e-05, -5.5544e-06,  6.4095e-02,  3.4994e-02, -8.4465e-08,\n",
      "         1.6365e-04,  9.7341e-07,  6.2230e-02, -5.8538e-06, -7.2133e-06,\n",
      "         1.8762e-06,  4.7567e-02, -1.0811e-01,  2.0751e-04,  2.2184e-01,\n",
      "        -5.7355e-06, -4.4679e-04,  2.3700e-06, -3.4818e-02,  3.2122e-02,\n",
      "        -8.3413e-05,  2.7772e-02,  1.1012e-03, -8.4689e-03, -1.1777e-05,\n",
      "        -1.8978e-01,  9.1467e-02,  7.9029e-04, -1.1002e-01, -2.0371e-02,\n",
      "        -4.9799e-02,  5.5484e-06,  1.2662e-03,  6.8381e-07,  1.5303e-06,\n",
      "         5.2393e-06,  3.3979e-06, -3.4634e-06, -6.9673e-06,  9.5638e-06,\n",
      "        -9.7973e-06,  4.5102e-06,  2.0901e-04,  1.8782e-01,  9.5627e-04,\n",
      "         1.1312e-04,  4.1643e-06,  1.8772e-01,  1.1155e-05,  1.0810e-01,\n",
      "         1.1831e-05,  3.6941e-04, -4.3183e-06,  6.0388e-06, -1.6472e-01,\n",
      "         5.8973e-04,  1.3149e-05,  1.1929e-05, -8.0714e-02, -1.4727e-06,\n",
      "         1.1042e-05, -1.3161e-05, -3.8728e-06,  3.4245e-05, -1.8459e-07,\n",
      "        -1.9352e-04,  2.9089e-04,  7.2336e-02,  6.7256e-05, -9.3903e-06,\n",
      "         1.7815e-02, -1.2328e-03, -1.5550e-06,  2.8432e-03, -1.3267e-05,\n",
      "        -9.1196e-06, -2.1397e-01,  1.3010e-01,  1.3950e-01, -9.1564e-02,\n",
      "        -3.2021e-04, -3.2626e-06,  3.0845e-06, -5.4255e-06,  1.4238e-03,\n",
      "         9.2727e-06,  9.1835e-06,  9.9226e-06,  5.6281e-05,  1.0211e-05,\n",
      "         5.5160e-04,  2.5664e-01, -9.5246e-06, -1.1609e-01, -1.1494e-03,\n",
      "        -6.5783e-02,  6.9122e-06,  5.6549e-04, -7.8013e-03, -1.0611e-05,\n",
      "        -9.6795e-02,  1.1268e-05, -1.0920e-01,  5.0814e-06,  2.8180e-06,\n",
      "        -1.3894e-01, -1.1956e-05, -1.2294e-05, -3.0245e-04, -6.6428e-02,\n",
      "        -1.1946e-05,  1.7229e-04, -1.0977e-02, -1.6771e-05,  1.2832e-05,\n",
      "        -6.3094e-06,  2.9333e-02, -9.6391e-06,  3.3523e-02, -7.8523e-06,\n",
      "        -1.4026e-02,  5.1820e-02,  4.2823e-02,  4.1863e-04,  1.3981e-05,\n",
      "        -1.9726e-02,  2.5006e-02,  1.1851e-05, -6.8020e-06, -2.2153e-02,\n",
      "         7.8683e-06,  2.6510e-02, -1.2107e-08,  1.5331e-03, -1.8559e-06,\n",
      "        -1.2116e-05, -3.9618e-02,  1.2210e-05,  5.2140e-06,  5.7808e-06,\n",
      "         8.2949e-02, -4.2388e-06, -5.0682e-06, -6.0994e-02, -7.4804e-02,\n",
      "         8.4423e-02,  1.5797e-03, -1.5487e-06,  3.9184e-02,  1.4982e-06,\n",
      "        -6.8290e-06, -2.8624e-06,  1.3993e-03,  4.2502e-06, -7.5888e-03,\n",
      "        -1.1322e-05,  1.3477e-05,  6.2759e-06,  1.6435e-06,  5.1550e-06,\n",
      "         3.3810e-04, -3.7282e-04,  8.9449e-06,  1.0003e-05,  1.3724e-01,\n",
      "         1.1122e-03, -2.9429e-06,  6.5583e-02, -1.3020e-02,  6.9343e-05,\n",
      "        -5.2339e-04,  4.8544e-06, -8.3957e-02,  9.4439e-02,  7.9375e-06,\n",
      "         1.9027e-01, -1.1699e-06, -1.6671e-01,  2.2187e-02, -1.5463e-01,\n",
      "        -6.8047e-06, -6.4837e-06, -1.4580e-03,  2.7594e-02,  9.3583e-02,\n",
      "        -2.8965e-02, -4.1358e-02,  1.8655e-05, -7.3559e-02,  1.0744e-05,\n",
      "         8.6837e-03, -1.3773e-01,  2.4388e-05,  1.0433e-06,  7.1974e-07,\n",
      "         4.9254e-06,  7.9474e-06,  9.1745e-05, -4.6620e-06, -8.9641e-02,\n",
      "        -1.3711e-03, -1.2482e-04,  8.0937e-06,  2.7719e-06,  6.4679e-02,\n",
      "         1.8461e-05,  9.9811e-06,  2.4129e-06,  6.9657e-02,  9.7346e-07,\n",
      "         1.0550e-06, -9.8928e-06, -3.6437e-05, -3.1063e-06,  1.1617e-05,\n",
      "        -2.9139e-06, -9.1152e-04, -2.4031e-06, -1.1816e-05,  6.0793e-06,\n",
      "         7.3457e-03, -9.4859e-02, -2.1900e-06,  2.9240e-03, -1.9587e-04,\n",
      "         1.2285e-02,  6.1622e-06,  7.3587e-03,  1.5359e-03, -2.1308e-06,\n",
      "         1.4090e-03, -3.5719e-03, -2.5788e-02,  2.3053e-04,  5.2514e-06,\n",
      "         6.1998e-02, -6.5849e-04,  1.0129e-02,  1.0673e-05, -5.4666e-06,\n",
      "        -5.7971e-06,  3.6880e-06,  1.6974e-01, -8.0556e-06, -5.8838e-06,\n",
      "        -1.5075e-01,  5.1067e-06, -1.5208e-03,  7.6188e-06,  1.1785e-02,\n",
      "         1.7226e-04,  5.1531e-04,  9.1696e-06, -1.0404e-03, -1.3976e-05,\n",
      "         3.8015e-02, -1.1273e-05, -6.6819e-02,  1.0554e-03, -6.1307e-06,\n",
      "         1.2052e-01, -2.4454e-04, -1.5905e-04, -5.0055e-07,  5.6589e-03,\n",
      "         1.5475e-05,  3.0194e-02, -2.0608e-06, -4.4817e-06, -7.5071e-02,\n",
      "        -3.3636e-04, -7.5261e-05, -8.4667e-06,  1.7544e-03, -3.8338e-06,\n",
      "        -1.4105e-02,  4.2687e-06,  2.9516e-06,  2.7292e-06, -1.0486e-03,\n",
      "        -1.2613e-01, -1.6569e-01,  4.3137e-04, -6.4286e-02, -1.1415e-05,\n",
      "         7.1274e-02,  4.7174e-06,  5.6464e-03, -1.8762e-01, -3.9485e-06,\n",
      "        -4.3354e-02, -1.8244e-01, -3.0452e-06, -3.1641e-06, -1.4170e-05,\n",
      "         2.7543e-04, -1.4817e-06, -9.9893e-03, -8.7747e-06,  3.1256e-02,\n",
      "        -8.6794e-06, -1.3842e-03,  3.9193e-06, -1.3837e-01,  2.9283e-06,\n",
      "        -1.2362e-04, -2.0932e-02, -9.9323e-06, -1.6217e-01, -8.5677e-06,\n",
      "        -1.3019e-01, -3.2050e-02, -1.4607e-04,  8.3424e-06, -2.6161e-06,\n",
      "         1.1784e-03, -2.0295e-04,  2.0022e-07, -4.0986e-02,  1.2859e-05,\n",
      "        -6.9595e-07, -7.4803e-06,  4.2212e-04,  8.6571e-02,  9.6476e-04,\n",
      "         1.0059e-05,  1.1900e-01, -7.0412e-06, -1.5921e-03, -1.1816e-01,\n",
      "        -1.1532e-05, -1.7879e-06,  2.2680e-03,  2.9954e-02,  4.2760e-06,\n",
      "        -1.8113e-06,  9.5538e-02,  5.6000e-06,  2.9490e-06,  7.3108e-05,\n",
      "         1.0425e-01, -1.4002e-01,  1.5388e-01, -4.6368e-06,  1.8549e-06,\n",
      "         1.2855e-02, -5.5474e-04,  1.5830e-06, -9.7592e-06, -1.3159e-05],\n",
      "       device='cuda:0')), ('2.weight', tensor([[-5.3540e-06, -1.3021e-05,  5.5350e-01,  ..., -2.6907e-06,\n",
      "          8.4477e-06, -5.6863e-06],\n",
      "        [-7.3429e-06,  2.8593e-06,  5.7272e-01,  ..., -1.1875e-05,\n",
      "         -2.3821e-06,  5.5166e-06],\n",
      "        [ 8.9536e-06,  4.0581e-06, -4.7713e-06,  ..., -1.3877e-05,\n",
      "         -1.2231e-06,  1.0421e-05],\n",
      "        ...,\n",
      "        [ 4.1754e-06,  2.8927e-06,  5.0039e-01,  ...,  6.3233e-06,\n",
      "          1.0428e-05,  1.3495e-05],\n",
      "        [-5.7099e-06,  4.0776e-06,  8.8272e-06,  ...,  7.5380e-06,\n",
      "          1.3523e-05,  1.0922e-05],\n",
      "        [-3.2386e-06,  1.4073e-05,  1.1269e-01,  ..., -1.1121e-05,\n",
      "          3.0569e-06, -8.1313e-06]], device='cuda:0')), ('2.bias', tensor([ 2.2990e-01,  3.4185e-01, -4.8900e-07,  4.8525e-06,  3.0042e-01,\n",
      "        -3.6974e-01, -4.0254e-01,  6.6993e-06,  1.0385e-06, -1.1034e-01,\n",
      "         1.0684e-05,  6.5508e-06, -8.5704e-02, -3.1303e-02,  9.7460e-07,\n",
      "        -9.1626e-06,  1.5137e-04, -1.2485e-05, -1.1473e-05,  3.8277e-02,\n",
      "         2.3817e-05, -2.2941e-01, -5.3965e-02, -1.5905e-03,  1.8821e-05,\n",
      "         8.3408e-06,  1.5241e-01, -2.5091e-01,  1.0456e-01, -6.6967e-07,\n",
      "        -1.1320e-05, -8.9557e-06,  5.6722e-02,  7.7699e-06, -4.5221e-04,\n",
      "        -2.5649e-01,  5.8363e-04,  1.3683e-05, -2.4080e-06, -2.9803e-01,\n",
      "         3.7362e-06, -3.5546e-06, -5.1383e-06, -3.6934e-01, -1.3774e-01,\n",
      "        -2.7437e-06,  3.1772e-07,  1.5850e-02, -2.2595e-01,  1.2292e-05,\n",
      "        -1.1756e-05, -1.1296e-05, -1.1813e-05,  7.5359e-06, -1.5101e-04,\n",
      "         2.7590e-06,  3.1654e-01,  2.0582e-05,  9.7034e-06, -1.4187e-01,\n",
      "        -1.6417e-05,  3.8060e-01,  1.3599e-05, -9.7477e-06,  5.0599e-06,\n",
      "        -1.5620e-01,  2.5426e-01,  1.5291e-06,  4.8767e-06,  2.4125e-01,\n",
      "        -1.5607e-01, -6.6727e-06, -1.8561e-01,  1.0136e-05, -2.2240e-01,\n",
      "        -1.9454e-01,  3.2878e-01, -3.3436e-01,  1.8227e-05,  3.4587e-01,\n",
      "         1.3076e-01, -6.4014e-06,  1.1075e-05,  2.1917e-06,  1.3781e-04,\n",
      "         1.6374e-04,  1.7126e-01, -7.7378e-06,  3.7017e-01, -1.0303e-05,\n",
      "         1.3970e-01,  2.0976e-01, -6.6777e-06, -4.1509e-06, -9.1288e-06,\n",
      "        -1.4020e-03, -2.9680e-06,  1.1946e-01, -1.6963e-02, -6.7362e-07,\n",
      "        -1.5441e-01,  2.1715e-01, -1.2305e-05,  1.1141e-05,  1.4205e-01,\n",
      "        -8.9336e-07,  1.8462e-04,  9.4237e-06, -3.8326e-01, -1.9999e-06,\n",
      "         5.5191e-06, -2.3621e-06,  1.1882e-05, -1.4135e-06,  1.1799e-01,\n",
      "        -9.3732e-06,  1.0644e-05, -3.9358e-06, -2.9355e-05,  4.0294e-02,\n",
      "        -2.2911e-01,  6.2483e-06, -1.1934e-04, -1.2436e-05, -2.0879e-01,\n",
      "        -1.2709e-01,  3.0159e-01, -8.3248e-06, -2.7737e-01,  5.1914e-06,\n",
      "        -9.9338e-06,  7.1855e-07,  3.9066e-01,  4.0823e-01,  6.3356e-06,\n",
      "        -1.2861e-05,  5.0193e-06,  2.9553e-01, -4.0553e-06, -2.0558e-01,\n",
      "         1.0246e-06,  2.5948e-01,  3.6852e-01,  3.1447e-01,  9.3515e-06,\n",
      "         4.2567e-06, -6.7174e-06,  5.1826e-06,  1.9413e-02, -7.3722e-06,\n",
      "         3.7080e-01, -2.8725e-01,  2.9604e-02, -2.5102e-01, -4.4129e-04,\n",
      "        -7.2148e-06, -4.9411e-06, -9.7180e-06,  1.4133e-04,  2.7413e-06,\n",
      "         1.2757e-01, -1.1217e-05, -1.8506e-01,  2.6286e-02,  3.6318e-01,\n",
      "        -1.1335e-05, -3.9427e-01,  1.5186e-01,  7.1507e-06, -1.3393e-05,\n",
      "         8.4837e-06,  1.8264e-05,  1.5786e-01,  9.8110e-06,  2.2689e-04,\n",
      "        -4.8152e-02,  1.7035e-01, -5.9512e-06,  3.8301e-01, -8.6724e-06,\n",
      "        -8.1952e-06,  2.8421e-06, -2.1178e-01, -1.3004e-05,  1.1618e-01,\n",
      "        -1.3471e-05,  8.2094e-06, -1.1092e-01,  2.2532e-01,  3.2279e-01,\n",
      "        -2.0145e-01, -1.0733e-05, -5.2414e-06,  4.2396e-06,  5.0816e-06,\n",
      "         3.2699e-01, -8.4335e-06,  1.0320e-01,  2.3868e-04, -1.9676e-06,\n",
      "         5.5329e-06, -3.5704e-06, -1.6526e-01, -1.2591e-05,  3.1270e-01,\n",
      "        -2.0222e-01,  1.5279e-05,  3.3425e-01, -5.6186e-02, -7.9248e-06,\n",
      "         1.5493e-05, -3.4831e-01,  3.5749e-01,  3.4592e-01, -2.4262e-06,\n",
      "         2.2280e-06, -1.1048e-05,  8.3671e-02,  1.3093e-06,  2.7780e-04,\n",
      "         2.7587e-01, -6.1929e-07, -1.0442e-01, -6.5471e-06, -2.2235e-04,\n",
      "        -3.6980e-01, -2.2429e-01, -1.4082e-05, -1.5008e-02,  2.7580e-02,\n",
      "         1.1157e-04, -1.2312e-05,  6.8791e-06,  2.1047e-04,  8.2384e-06,\n",
      "        -2.1235e-04,  1.3550e-01,  4.0610e-01,  8.9088e-06,  3.3490e-01,\n",
      "        -9.7039e-06, -2.9342e-01, -2.2840e-06, -7.3584e-06,  1.5083e-05,\n",
      "        -1.3145e-03, -5.9973e-04, -1.0326e-05,  1.6993e-04,  1.2982e-01,\n",
      "        -1.3885e-01, -1.3026e-05, -3.2663e-01,  8.0423e-06,  2.6518e-01,\n",
      "        -1.1030e-01, -1.3249e-05,  4.4019e-06,  3.0852e-01, -2.1919e-02,\n",
      "        -5.2716e-04, -5.4578e-06, -2.2607e-04,  1.3693e-05,  3.8252e-01,\n",
      "        -9.1754e-06, -3.9044e-06, -1.1922e-05,  2.6353e-01,  1.2374e-07,\n",
      "         2.8113e-06, -1.2957e-05, -7.0394e-08, -2.7695e-06,  4.5196e-04,\n",
      "         6.2098e-06, -1.8242e-01,  1.0782e-05,  5.9265e-06,  5.6090e-02,\n",
      "        -3.2427e-04, -5.3547e-02, -6.1062e-04, -3.1272e-01, -6.9627e-06,\n",
      "         1.5765e-03,  2.2704e-01, -9.0924e-06, -1.9218e-06, -3.1132e-01,\n",
      "         1.8213e-01,  1.8743e-01, -2.8430e-06,  1.7435e-05, -3.6396e-01,\n",
      "        -1.2760e-05,  3.5709e-06, -1.2847e-05,  1.1368e-05,  4.8747e-02,\n",
      "        -9.2890e-02,  3.0162e-06, -1.4316e-05, -3.4591e-04, -1.0099e-05,\n",
      "        -4.3444e-01,  4.4679e-06,  3.1317e-01, -2.9005e-06,  6.8751e-06,\n",
      "        -3.3649e-01,  1.1108e-01,  3.4228e-06,  1.4892e-05, -1.4937e-02,\n",
      "         5.4919e-02,  1.2915e-05, -2.2027e-01, -9.9132e-06,  2.6798e-01,\n",
      "        -1.6548e-06,  4.3710e-06, -2.2049e-04, -2.5837e-01, -2.5405e-06,\n",
      "        -2.1521e-01, -3.3966e-02,  9.4838e-06, -9.1431e-06,  1.0281e-05,\n",
      "         6.0102e-06,  8.2307e-06, -2.7285e-01,  1.0050e-05, -2.9920e-06,\n",
      "        -1.0049e-05,  8.9232e-06, -3.5746e-01, -1.5363e-01, -1.2375e-05,\n",
      "        -5.9912e-02, -2.3615e-01,  8.6562e-06,  8.6877e-06, -1.2136e-05,\n",
      "        -9.0416e-06, -1.1262e-06, -4.1224e-02, -1.0024e-06, -1.4516e-06,\n",
      "        -9.9717e-07, -9.6154e-02,  9.0441e-04, -7.2047e-07,  1.1549e-01,\n",
      "        -7.8477e-04, -9.9299e-02, -2.1422e-01,  3.0969e-01, -1.2738e-01,\n",
      "         2.1658e-05,  1.2194e-01,  2.3968e-01,  2.7949e-01,  3.0054e-01,\n",
      "         1.1050e-05, -4.7293e-06, -9.6361e-06, -2.4084e-01,  1.9277e-07,\n",
      "        -1.0701e-05, -7.6490e-06,  1.0733e-05, -7.4029e-06,  3.6385e-06,\n",
      "         9.1225e-06,  5.5276e-02,  1.0365e-03,  2.4664e-01,  1.0918e-05,\n",
      "        -3.5477e-01, -8.8613e-02, -1.0024e-05,  3.9752e-01, -1.1694e-05,\n",
      "         1.3549e-05, -8.4773e-06, -7.8562e-02, -9.0958e-06, -1.6296e-01,\n",
      "        -9.3829e-06,  1.8207e-07,  2.5670e-01, -3.4879e-01,  3.6836e-01,\n",
      "        -7.9002e-06,  1.3417e-06, -6.5825e-06, -1.3860e-05,  2.0385e-01,\n",
      "        -7.9950e-07, -1.2613e-05, -3.4622e-06, -3.6383e-01,  1.0652e-05,\n",
      "        -3.6413e-01,  4.0262e-07, -1.8158e-01,  1.4547e-01, -7.0161e-06,\n",
      "         2.3108e-01, -3.1946e-01, -3.6388e-06, -9.6955e-02,  9.0850e-06,\n",
      "        -2.7064e-01, -2.3327e-06,  8.5451e-06,  3.5750e-01, -4.9202e-06,\n",
      "         1.5671e-06,  9.3541e-06,  1.4617e-03,  5.7093e-02,  8.5270e-06,\n",
      "         8.3693e-06,  2.0063e-01, -2.7953e-01, -1.3204e-05, -1.2067e-01,\n",
      "         1.4802e-05, -7.6096e-06, -5.0858e-06,  4.5608e-06,  1.1300e-01,\n",
      "         1.2127e-01, -2.6488e-01, -2.3967e-01, -1.0361e-01,  5.1920e-02,\n",
      "        -6.4759e-06, -7.3803e-06, -2.1400e-01,  6.1824e-04, -5.9770e-02,\n",
      "        -6.5314e-06,  5.1312e-06,  9.7097e-02, -3.2650e-01,  2.0929e-01,\n",
      "         9.4496e-02,  1.3420e-05,  3.6166e-04,  1.0558e-04, -7.7831e-03,\n",
      "         7.7129e-02,  2.0064e-04, -9.8813e-02,  2.8636e-02,  4.8883e-06,\n",
      "        -4.1053e-01,  1.1154e-05,  2.7068e-06, -1.6809e-01, -9.6131e-06,\n",
      "        -8.6000e-06,  9.3583e-05,  6.9366e-06,  9.6764e-02,  1.2735e-02,\n",
      "        -6.4279e-06, -4.2657e-03,  9.3244e-06, -2.9374e-01,  2.8006e-01,\n",
      "        -7.0771e-06, -4.6232e-01,  3.4227e-01, -1.0659e-05,  1.3437e-05,\n",
      "        -6.1379e-06, -4.8799e-06,  1.5742e-05, -2.1576e-01,  1.4168e-02,\n",
      "         1.4725e-02, -1.3322e-02, -3.6041e-01,  3.9148e-01,  1.3008e-01,\n",
      "         3.6048e-01, -6.6337e-06,  6.3507e-06, -1.6688e-05, -3.7264e-06,\n",
      "         2.1123e-01, -1.2799e-01,  4.8789e-06, -3.7026e-01, -3.8574e-06,\n",
      "         3.7248e-01, -1.7574e-01,  9.3766e-07,  1.8402e-06,  1.3887e-05,\n",
      "        -5.6186e-06,  1.2469e-05,  7.0259e-06,  2.3279e-06,  3.6058e-06,\n",
      "        -5.7708e-06,  1.9469e-01,  2.7970e-01,  4.5683e-06, -3.6378e-01,\n",
      "         3.4874e-01,  1.3911e-05,  3.0953e-01,  1.9055e-05,  4.6098e-06,\n",
      "         1.4509e-05,  3.5172e-01,  2.1791e-01, -2.3090e-01,  1.1144e-05,\n",
      "        -1.0406e-05, -2.7632e-01,  1.6683e-01, -6.7816e-06, -6.4174e-06,\n",
      "        -9.8554e-06,  4.6568e-06,  5.6688e-04,  7.6171e-07,  2.4252e-01,\n",
      "         1.0246e-01, -5.3427e-06,  1.0916e-01,  3.0588e-01, -1.3809e-05,\n",
      "        -1.3252e-05, -2.0436e-06,  6.3228e-07,  1.0717e-05,  1.0896e-01,\n",
      "         2.7521e-01,  1.2173e-05, -2.6928e-01, -2.6681e-01,  4.4916e-06,\n",
      "        -2.2574e-01,  4.0503e-01, -3.5228e-01,  1.8770e-06,  4.4540e-06,\n",
      "        -1.6987e-01, -5.2479e-03,  3.6111e-01,  1.2104e-05,  3.2612e-06,\n",
      "         4.6987e-06, -5.2229e-06, -3.1358e-06, -8.2926e-06, -1.3733e-05,\n",
      "        -1.1868e-02, -1.1091e-06,  2.3710e-01, -1.7025e-04, -3.7904e-02,\n",
      "         1.3265e-05, -2.4203e-01, -2.1190e-01,  1.7198e-05, -6.1202e-02,\n",
      "         8.2247e-06,  8.1713e-06, -1.1747e-01, -8.9108e-06, -1.2319e-01,\n",
      "         7.8736e-07,  2.8311e-01, -5.1787e-07,  8.3171e-02,  1.9654e-02,\n",
      "        -1.0186e-04,  5.8528e-07,  1.0226e-01,  1.8851e-01,  7.6574e-06,\n",
      "        -1.6193e-01,  7.9368e-06,  2.2269e-01,  1.5062e-04, -1.5658e-01,\n",
      "        -2.6670e-05,  3.3038e-02,  3.4383e-01, -1.2410e-05,  3.3520e-01,\n",
      "        -2.6971e-01, -1.4513e-03, -2.2023e-01,  2.7798e-06,  7.9471e-07,\n",
      "         8.5050e-02,  1.4994e-01, -9.7614e-06,  6.8822e-02,  6.6833e-02,\n",
      "         4.2660e-01, -3.4577e-06,  1.0503e-01, -1.3333e-05, -1.0935e-05,\n",
      "        -3.0971e-06,  5.3644e-06, -3.3388e-06, -8.1666e-06,  1.3980e-05,\n",
      "        -5.3419e-03,  7.5830e-06,  2.1255e-04,  2.2407e-04, -3.1649e-06,\n",
      "        -9.4139e-06,  6.3975e-03,  1.3148e-03, -9.4826e-06,  6.2885e-06,\n",
      "         1.8423e-02,  4.9689e-04,  3.6480e-01, -2.7977e-01, -5.8072e-04,\n",
      "        -9.2264e-06,  3.7890e-01,  1.3633e-01, -2.2306e-06,  5.9850e-03],\n",
      "       device='cuda:0')), ('4.weight', tensor([[-4.3146e-01, -3.0839e-01,  1.3173e-05,  ..., -4.9730e-01,\n",
      "         -5.3192e-06, -6.1064e-01],\n",
      "        [ 1.1634e-06,  1.2182e-05,  1.0704e-05,  ..., -6.0731e-06,\n",
      "          1.2130e-05,  1.6746e-05],\n",
      "        [-2.3387e-01, -1.1669e-01,  1.0480e-06,  ..., -4.0019e-01,\n",
      "          1.0290e-05, -5.7751e-01],\n",
      "        ...,\n",
      "        [ 8.7368e-06, -7.0131e-06,  8.5175e-06,  ..., -1.4827e-05,\n",
      "         -7.3537e-06,  1.2238e-05],\n",
      "        [-3.7037e-06, -4.9577e-06, -8.6137e-06,  ..., -8.1650e-08,\n",
      "         -5.4989e-06, -4.3517e-06],\n",
      "        [ 5.0253e-01,  3.8835e-01, -1.1617e-05,  ...,  5.2121e-01,\n",
      "          9.6749e-06,  6.2339e-01]], device='cuda:0')), ('4.bias', tensor([-5.5180e-01,  1.0959e-05, -4.3770e-01,  1.5471e-06,  2.3467e-05,\n",
      "         3.0642e-01,  4.4539e-01,  4.7805e-01,  1.3173e-05,  5.1431e-01,\n",
      "        -3.6173e-01, -1.4592e-03,  2.9703e-01,  1.4462e-03, -1.9201e-06,\n",
      "         1.4143e-04,  1.3722e-05, -1.0847e-05,  4.3132e-06,  2.0682e-06,\n",
      "        -9.4673e-06, -1.2332e-05,  5.5508e-06, -6.9440e-06, -6.4209e-06,\n",
      "        -3.8973e-01, -1.9517e-01,  4.6879e-01, -7.0301e-07,  4.6403e-01,\n",
      "        -4.5733e-01,  1.9636e-01,  1.8006e-04, -2.9400e-01, -3.3496e-01,\n",
      "        -1.4782e-04, -5.0548e-01, -3.1042e-01, -2.5863e-02,  5.9190e-02,\n",
      "         4.0567e-01,  3.9206e-01,  1.8430e-05,  7.9074e-06,  6.8162e-07,\n",
      "         1.7612e-06, -3.7760e-01, -1.0097e-05, -5.0868e-01, -4.8772e-06,\n",
      "        -4.2332e-01,  1.6784e-01,  3.0713e-06, -4.3837e-01,  2.9291e-06,\n",
      "        -6.8720e-06,  1.7817e-05,  1.5416e-05, -2.9769e-06, -8.5936e-06,\n",
      "         2.4965e-04, -2.9653e-06, -2.4383e-01,  5.2297e-01,  5.2938e-01,\n",
      "         4.8603e-01,  1.5699e-01,  4.8100e-01,  1.1833e-05, -1.9791e-04,\n",
      "         3.3854e-01, -5.1090e-05, -1.1471e-05,  3.9708e-01,  3.2292e-01,\n",
      "         3.5373e-01,  4.3445e-01, -1.4729e-05,  3.3330e-06, -3.0758e-06,\n",
      "        -4.2092e-01, -1.1886e-05, -4.4673e-01, -4.9728e-01,  1.1955e-03,\n",
      "        -1.0697e-05, -5.9834e-06,  4.4942e-01,  4.7359e-01, -2.4893e-05,\n",
      "         3.1380e-01,  3.3223e-02, -4.0363e-01,  5.0401e-01,  1.5802e-04,\n",
      "         3.8184e-01,  5.8982e-02,  2.0301e-06,  3.7446e-06, -3.2049e-01,\n",
      "        -4.2479e-01, -4.9846e-01, -4.7788e-02, -8.4759e-06,  1.7126e-01,\n",
      "        -1.4949e-05,  6.8581e-06,  4.4259e-01,  1.8348e-06,  3.6583e-06,\n",
      "        -1.7060e-06, -1.0869e-05, -2.7487e-01,  3.1536e-01,  5.2950e-01,\n",
      "         4.4850e-04, -2.0220e-01,  4.2870e-04, -2.4979e-01, -2.3243e-01,\n",
      "         4.9514e-01, -3.9137e-01,  3.7533e-02,  1.5525e-05, -4.6618e-01,\n",
      "         1.1477e-05, -4.0786e-01,  4.0514e-04, -1.4979e-05,  2.0056e-05,\n",
      "        -4.1926e-01, -4.7808e-01, -4.2023e-01, -1.4637e-05,  5.1417e-04,\n",
      "         4.8028e-01,  4.2730e-01, -3.9450e-01,  2.9704e-01,  3.5715e-04,\n",
      "         4.7541e-01, -1.4336e-05,  5.2906e-01, -4.7042e-01,  4.9224e-01,\n",
      "        -8.9420e-06,  5.5039e-01,  5.0722e-01, -7.7483e-03,  6.3336e-06,\n",
      "         2.8266e-01, -1.2430e-05, -9.5784e-04,  4.8704e-01,  4.0913e-06,\n",
      "        -2.3858e-01, -8.2766e-06,  4.4283e-06, -5.0658e-06, -3.0937e-01,\n",
      "         5.5327e-01, -8.1195e-06,  5.4400e-01,  9.3172e-06,  2.4388e-05,\n",
      "        -4.2365e-01, -3.0688e-01,  4.7883e-01,  3.0369e-01,  7.2108e-02,\n",
      "         4.3005e-01, -4.3106e-01,  6.7396e-06, -4.9160e-01,  1.4831e-06,\n",
      "         2.2020e-05, -1.6457e-01, -7.4727e-06, -2.9892e-01,  4.9350e-01,\n",
      "         2.9546e-01,  9.5501e-06, -5.8608e-06,  4.1711e-01,  7.2577e-06,\n",
      "         1.4822e-04, -6.2344e-06,  2.0152e-04,  1.1072e-05,  6.6773e-06,\n",
      "        -4.5743e-01, -1.6643e-01,  5.1378e-01, -1.6742e-06,  3.6994e-06,\n",
      "        -9.7339e-06, -4.9824e-01,  1.1945e-05,  1.7696e-06, -4.7078e-06,\n",
      "        -4.2736e-01, -3.4351e-01,  7.1001e-06,  1.0735e-04,  4.4100e-01,\n",
      "        -5.4986e-05, -6.3857e-06, -3.6208e-01,  2.8600e-06,  1.4261e-06,\n",
      "         4.2007e-01, -7.1216e-06, -1.1710e-05, -4.1581e-01,  9.6600e-06,\n",
      "        -4.4080e-01,  1.4871e-06, -5.2234e-01, -2.4733e-01,  5.3720e-01,\n",
      "        -4.2210e-01,  1.8686e-04, -8.9157e-06,  6.8257e-06, -5.1116e-01,\n",
      "        -3.6525e-01, -4.3465e-01, -4.8310e-02, -3.0144e-01, -1.8837e-06,\n",
      "        -6.7358e-06, -1.9338e-05, -4.6951e-06, -2.9604e-01, -4.3771e-02,\n",
      "        -3.6825e-06,  8.9993e-06,  5.4574e-06,  4.9185e-01, -5.6122e-01,\n",
      "         2.1538e-05,  3.1803e-02, -6.7334e-06, -4.3201e-01, -2.8728e-01,\n",
      "        -1.4447e-06,  2.4521e-01, -1.8139e-04,  1.4520e-03, -4.3274e-01,\n",
      "        -3.4261e-01,  1.6279e-05,  4.1054e-01, -1.3486e-05, -8.8799e-02,\n",
      "         1.2548e-05, -5.2650e-06,  9.1201e-05, -2.2693e-06, -7.4406e-06,\n",
      "         5.3335e-01, -3.6731e-01, -4.7155e-01,  3.2736e-07, -5.3976e-01,\n",
      "        -3.5108e-01, -1.1516e-01,  1.9265e-04, -1.4025e-05,  3.2122e-01,\n",
      "        -8.3771e-06,  1.0533e-05, -2.0268e-01, -4.3457e-01,  5.1378e-01,\n",
      "        -3.2825e-01,  5.1642e-04, -4.4491e-01,  3.6757e-01,  8.4183e-06,\n",
      "         2.8231e-04,  4.3482e-01, -1.2338e-05, -3.2867e-01,  1.6006e-01,\n",
      "        -3.9103e-01, -1.9267e-06, -1.1313e-05,  5.2152e-01, -4.7759e-01,\n",
      "        -1.0498e-05, -1.1515e-01, -4.0813e-01, -2.8746e-06,  2.4464e-05,\n",
      "         1.5439e-05,  5.0136e-06,  3.4282e-01,  7.2149e-06,  3.2538e-01,\n",
      "         4.1133e-01, -3.1326e-01, -1.8472e-06,  5.4958e-02, -1.8758e-01,\n",
      "         9.2698e-06, -7.5682e-05, -5.9593e-06, -4.8140e-01, -5.1830e-01,\n",
      "        -3.8764e-01, -7.6043e-06, -3.2419e-01, -5.3587e-01, -1.9976e-01,\n",
      "         2.9973e-01,  9.4837e-06, -4.7961e-06, -5.2285e-06,  5.9031e-01],\n",
      "       device='cuda:0')), ('6.weight', tensor([[-1.5304e-05,  6.8667e-06,  6.0799e-06,  ...,  3.2075e-06,\n",
      "         -1.1594e-05, -7.6514e-06],\n",
      "        [-3.2279e-01,  1.3364e-05, -4.6418e-01,  ..., -1.9677e-05,\n",
      "         -9.8227e-06, -5.5500e-01],\n",
      "        [-5.2512e-01,  1.9648e-05, -5.3044e-01,  ...,  1.0171e-05,\n",
      "         -1.2352e-05, -5.3580e-01],\n",
      "        ...,\n",
      "        [-1.5780e-05, -7.7756e-07, -1.5841e-05,  ..., -7.8571e-06,\n",
      "         -1.0151e-06,  6.2642e-06],\n",
      "        [-2.9854e-01, -7.1896e-06, -4.2671e-01,  ..., -2.0751e-05,\n",
      "         -2.0400e-05, -5.3088e-01],\n",
      "        [ 5.2296e-06, -1.7492e-06,  1.9113e-05,  ..., -1.1375e-05,\n",
      "          8.5832e-06, -1.0020e-05]], device='cuda:0')), ('6.bias', tensor([-1.9572e-05, -5.0922e-01, -5.9844e-01, -4.5851e-01, -3.1460e-02,\n",
      "         5.6030e-01, -5.5803e-01, -3.5993e-01, -4.6443e-06, -5.7506e-01,\n",
      "         4.5230e-01,  5.0277e-04, -5.4466e-07,  5.7345e-01, -4.2567e-06,\n",
      "         5.9990e-01,  1.0628e-02, -2.0124e-05,  6.0564e-01, -1.5217e-05,\n",
      "        -2.6917e-01, -1.1154e-05, -4.8579e-01,  8.5067e-02, -5.0420e-01,\n",
      "        -7.1406e-06,  1.0501e-06, -5.5179e-01, -5.8098e-06, -6.2796e-01,\n",
      "        -3.4718e-06,  1.2247e-04, -5.7680e-01, -5.7022e-01,  5.2593e-01,\n",
      "         2.4682e-01, -5.6882e-01, -6.2338e-05,  1.9583e-04, -4.3618e-01,\n",
      "        -1.7602e-05, -2.0610e-06, -1.3744e-05, -2.1109e-05,  1.3686e-03,\n",
      "        -2.8068e-01,  5.4908e-01,  4.1003e-01, -7.9445e-06, -2.2863e-05,\n",
      "        -3.8755e-01,  5.3348e-01, -7.5765e-07, -4.8601e-01, -4.6405e-06,\n",
      "         1.2740e-02, -5.6797e-01, -5.9727e-01,  5.9488e-01, -5.8734e-01,\n",
      "        -5.1881e-01, -1.2054e-05, -5.1688e-01, -3.3336e-01, -4.0305e-01,\n",
      "        -6.0159e-01, -3.6231e-01, -7.5551e-06,  5.9225e-01,  5.4122e-01,\n",
      "        -4.5979e-05,  1.7111e-04, -5.2093e-01, -5.5859e-01, -1.6664e-04,\n",
      "        -5.1478e-04,  8.2658e-05, -3.0373e-01, -1.9046e-05, -1.2386e-04,\n",
      "         5.8770e-01,  2.0354e-04,  4.6787e-01, -2.1290e-05, -1.4563e-04,\n",
      "        -2.5303e-06, -8.8366e-06, -2.1942e-06,  5.0946e-01,  4.9544e-01,\n",
      "        -5.2773e-01, -2.1131e-05,  1.2995e-04, -5.2693e-01,  2.2149e-04,\n",
      "        -5.8229e-01,  7.5048e-02, -1.2711e-05, -1.4109e-04,  4.8929e-01,\n",
      "         5.1056e-01, -2.7982e-04, -9.7237e-06,  5.3104e-01,  6.0223e-01,\n",
      "        -2.0111e-05, -8.1902e-02, -1.7052e-05,  5.3320e-01,  1.6779e-01,\n",
      "        -4.7544e-01, -3.8428e-01,  4.6944e-01, -2.2669e-04,  5.7052e-01,\n",
      "         5.2900e-01, -6.0575e-06, -5.8141e-01, -1.4725e-05,  1.5973e-01,\n",
      "        -7.4489e-06,  5.6903e-01, -4.8990e-01, -5.4541e-01, -4.4388e-01,\n",
      "         4.1352e-01, -4.6429e-01, -8.0461e-06, -1.4265e-05, -5.2158e-01,\n",
      "        -6.4443e-02,  5.3022e-01, -3.0760e-04, -1.1687e-05, -5.1221e-01,\n",
      "        -1.2947e-05, -1.3831e-06,  3.7567e-01,  1.2012e-04, -4.9223e-01,\n",
      "         5.1597e-01,  5.7777e-01, -2.5884e-06,  4.9599e-01, -1.3795e-06,\n",
      "        -1.1332e-05, -3.5735e-01, -6.9706e-06,  6.0569e-01, -4.3104e-06,\n",
      "        -1.0635e-06, -5.3281e-01, -2.0397e-05, -4.6961e-01,  3.5276e-01,\n",
      "         1.0570e-05,  4.1367e-05,  9.5629e-06, -5.1459e-01, -2.0868e-04],\n",
      "       device='cuda:0')), ('8.weight', tensor([[ 1.5681e-05, -5.5918e-01, -3.9091e-01,  ...,  1.7980e-05,\n",
      "         -5.4823e-01, -2.0318e-05],\n",
      "        [ 1.6372e-05,  5.0047e-01,  4.4087e-01,  ..., -3.4589e-06,\n",
      "          5.4344e-01,  1.4710e-06],\n",
      "        [ 1.7968e-05, -3.6344e-01, -2.2927e-01,  ..., -1.2380e-05,\n",
      "         -4.6427e-01,  1.7562e-05],\n",
      "        ...,\n",
      "        [-1.8333e-05, -1.1925e-05, -1.3979e-05,  ...,  1.7156e-05,\n",
      "         -2.7030e-05, -1.5793e-05],\n",
      "        [-1.6401e-05, -5.5837e-01, -4.8018e-01,  ..., -9.9477e-06,\n",
      "         -5.5611e-01,  2.6088e-05],\n",
      "        [ 1.6563e-05,  6.2816e-01,  4.6884e-01,  ..., -1.0077e-06,\n",
      "          5.4116e-01, -1.4828e-06]], device='cuda:0')), ('8.bias', tensor([-4.8047e-01,  5.2938e-01, -5.3696e-01, -2.4925e-05,  5.4828e-01,\n",
      "        -1.4546e-05,  6.6453e-01, -2.9089e-05, -5.4611e-01, -5.5092e-01,\n",
      "        -5.7777e-01, -5.8220e-01,  3.5146e-02, -5.1052e-01, -5.6033e-01,\n",
      "         3.8299e-01,  6.0032e-01,  5.4860e-01, -2.7318e-05, -2.0243e-05,\n",
      "        -1.8824e-05, -3.9378e-07,  5.5262e-01,  4.1324e-01, -6.1052e-01,\n",
      "         1.8764e-06, -2.2649e-05, -6.1883e-01, -1.1297e-05, -1.9206e-05,\n",
      "        -1.9063e-05, -3.5211e-06, -6.0584e-01, -4.9126e-01,  2.5042e-03,\n",
      "        -1.0288e-05, -5.8697e-01, -6.2690e-01, -2.8099e-05,  5.5537e-03,\n",
      "         5.2221e-01, -5.6385e-01,  6.0299e-01,  5.8713e-01, -5.2596e-01,\n",
      "         5.8595e-04,  2.7468e-06, -2.1279e-05,  5.4943e-01,  6.5629e-01,\n",
      "        -1.9379e-05, -6.2321e-01,  6.0092e-01, -1.5585e-05,  3.3202e-05,\n",
      "        -1.7787e-05,  6.4512e-01,  3.6335e-01, -4.9462e-01, -1.2619e-05,\n",
      "        -1.4346e-05,  5.5889e-01, -5.5605e-01, -6.0939e-01,  5.5997e-01,\n",
      "         4.9245e-01,  5.3741e-01,  4.3146e-01,  2.7088e-07,  6.1426e-01,\n",
      "        -4.8606e-01, -3.6358e-01,  3.8738e-03,  6.5786e-01,  5.7769e-01,\n",
      "        -8.8631e-07,  5.0201e-01, -3.2238e-06, -6.5484e-01,  6.4605e-01],\n",
      "       device='cuda:0')), ('10.weight', tensor([[ 3.1609e-01,  4.2476e-01,  1.2698e-04,  ...,  3.5888e-05,\n",
      "          4.7279e-01,  4.7727e-01],\n",
      "        [-4.7010e-01, -6.5481e-01,  1.5296e-03,  ..., -2.8052e-05,\n",
      "         -4.8727e-01, -5.5881e-01],\n",
      "        [-3.8589e-01, -4.4457e-01, -2.3372e-05,  ...,  3.2987e-05,\n",
      "         -4.5287e-01, -3.9231e-01],\n",
      "        ...,\n",
      "        [-4.6209e-01, -4.9290e-01,  1.1926e-03,  ..., -1.0347e-05,\n",
      "         -6.0618e-01, -6.7052e-01],\n",
      "        [ 2.4670e-01,  4.2772e-01, -2.5580e-04,  ...,  3.6799e-05,\n",
      "          5.0235e-01,  4.9670e-01],\n",
      "        [ 5.7254e-01,  5.4269e-01, -9.7870e-04,  ..., -3.6317e-05,\n",
      "          6.6740e-01,  4.9836e-01]], device='cuda:0')), ('10.bias', tensor([ 0.5404, -0.5523, -0.6582, -0.6212,  0.5078, -0.4514,  0.6149,  0.5390,\n",
      "         0.4827, -0.5925, -0.6504, -0.5011,  0.6393, -0.6294,  0.5861,  0.7013,\n",
      "         0.6106, -0.7077, -0.6347, -0.4262, -0.4883, -0.5084,  0.5181,  0.5383,\n",
      "         0.5018, -0.6465,  0.4949,  0.6140,  0.5799,  0.6803, -0.6963, -0.4522,\n",
      "         0.6151, -0.5664,  0.6419,  0.6858, -0.6049, -0.7016,  0.4832,  0.4950],\n",
      "       device='cuda:0'))])\n"
     ]
    }
   ],
   "source": [
    "torch.save(model.encoder.state_dict(), '../Data/encoderparams.pt')\n",
    "print(model.encoder.state_dict())\n"
   ]
  },
  {
   "cell_type": "code",
   "execution_count": 8,
   "metadata": {},
   "outputs": [],
   "source": [
    "lhs_df = pd.read_csv('../Data/lhsDataset.csv')\n",
    "\n",
    "onehot_enc = pd.read_csv('../Data/encoded_oh.csv')\n",
    "\n",
    "\n",
    "rhs_df = pd.read_csv('../Data/rhs.csv')\n",
    "rhs_df = rhs_df['Median playtime forever'].to_frame()\n",
    "\n",
    "lhs_df = pd.concat([lhs_df, onehot_enc], axis=1)\n"
   ]
  },
  {
   "cell_type": "code",
   "execution_count": 9,
   "metadata": {},
   "outputs": [],
   "source": [
    "lhs_df = (lhs_df.astype('Float64') - lhs_df.astype('Float64').min()) / (lhs_df.astype('Float64').max() - lhs_df.astype('Float64').min())\n"
   ]
  },
  {
   "cell_type": "code",
   "execution_count": 10,
   "metadata": {},
   "outputs": [],
   "source": [
    "class NN(nn.Module):\n",
    "    def __init__(self,input_size, device='cpu'):\n",
    "        super().__init__()\n",
    "        \n",
    "        \n",
    "        self.hidden = nn.Sequential(\n",
    "            nn.Linear(input_size, input_size),\n",
    "            nn.ReLU(),\n",
    "            nn.Linear(input_size, input_size),\n",
    "            nn.ReLU(),\n",
    "            nn.Linear(input_size, input_size),\n",
    "            nn.Sigmoid(),\n",
    "            nn.Linear(input_size, 1))\n",
    "        \n",
    "        \n",
    "    def forward(self, x):\n",
    "        return self.hidden(x)\n"
   ]
  },
  {
   "cell_type": "code",
   "execution_count": 11,
   "metadata": {},
   "outputs": [],
   "source": [
    "model = NN(197, device=device).to(device)\n",
    "loss_function = nn.MSELoss()\n",
    "optimizer = torch.optim.Adam(model.parameters(), lr = 1e-4, weight_decay = 1e-8)\n"
   ]
  },
  {
   "cell_type": "code",
   "execution_count": 12,
   "metadata": {},
   "outputs": [],
   "source": [
    "gdataset = steamGamesDataset(lhs_df, rhs_df)\n",
    "gdataloader = data.DataLoader(gdataset, batch_size=1024)\n"
   ]
  },
  {
   "cell_type": "code",
   "execution_count": 13,
   "metadata": {},
   "outputs": [
    {
     "name": "stdout",
     "output_type": "stream",
     "text": [
      "Epoch: 0\r"
     ]
    },
    {
     "name": "stderr",
     "output_type": "stream",
     "text": [
      "c:\\Users\\speed\\OneDrive - Arizona State University\\School\\Masters\\CSE572\\Project\\SteamGamesSuccessPrediction\\ModelTesting\\../Dataset\\dataset.py:17: FutureWarning: Series.__getitem__ treating keys as positions is deprecated. In a future version, integer keys will always be treated as labels (consistent with DataFrame behavior). To access a value by position, use `ser.iloc[pos]`\n",
      "  inp_features = torch.tensor(self.lhs_df.iloc[index]).to(torch.float32)\n",
      "c:\\Users\\speed\\OneDrive - Arizona State University\\School\\Masters\\CSE572\\Project\\SteamGamesSuccessPrediction\\ModelTesting\\../Dataset\\dataset.py:18: FutureWarning: Series.__getitem__ treating keys as positions is deprecated. In a future version, integer keys will always be treated as labels (consistent with DataFrame behavior). To access a value by position, use `ser.iloc[pos]`\n",
      "  value = torch.tensor(self.rhs_df.iloc[index]).to(torch.float32)\n"
     ]
    },
    {
     "name": "stdout",
     "output_type": "stream",
     "text": [
      "itteration: 1\r"
     ]
    },
    {
     "name": "stderr",
     "output_type": "stream",
     "text": [
      "c:\\Users\\speed\\AppData\\Local\\Programs\\Python\\Python310\\lib\\site-packages\\torch\\nn\\modules\\loss.py:535: UserWarning: Using a target size (torch.Size([1024, 197])) that is different to the input size (torch.Size([1024, 1])). This will likely lead to incorrect results due to broadcasting. Please ensure they have the same size.\n",
      "  return F.mse_loss(input, target, reduction=self.reduction)\n"
     ]
    },
    {
     "name": "stdout",
     "output_type": "stream",
     "text": [
      "Epoch: 1on: 71\r"
     ]
    },
    {
     "name": "stderr",
     "output_type": "stream",
     "text": [
      "c:\\Users\\speed\\AppData\\Local\\Programs\\Python\\Python310\\lib\\site-packages\\torch\\nn\\modules\\loss.py:535: UserWarning: Using a target size (torch.Size([36, 197])) that is different to the input size (torch.Size([36, 1])). This will likely lead to incorrect results due to broadcasting. Please ensure they have the same size.\n",
      "  return F.mse_loss(input, target, reduction=self.reduction)\n"
     ]
    },
    {
     "name": "stdout",
     "output_type": "stream",
     "text": [
      "itteration: 213\r"
     ]
    }
   ],
   "source": [
    "epochs = 3\n",
    "outputs = []\n",
    "losses = []\n",
    "i = 0\n",
    "for epoch in range(epochs):\n",
    "  print(f'Epoch: {epoch}', end='\\r')\n",
    "  for (image, output) in gdataloader:\n",
    "    i += 1\n",
    "    if i % 10: print(f'itteration: {i}', end='\\r')\n",
    "    image = image.to(device)\n",
    "    output = output.to(device)\n",
    "    # Reshaping the image to (-1, 784)\n",
    "    #   image = image.reshape(-1, 28*28)\n",
    "      \n",
    "    # Output of Autoencoder\n",
    "    reconstructed = model.forward(image)\n",
    "      \n",
    "    # Calculating the loss function\n",
    "    loss = loss_function(reconstructed, image)\n",
    "\n",
    "    # The gradients are set to zero,\n",
    "    # the gradient is computed and stored.\n",
    "    # .step() performs parameter update\n",
    "    optimizer.zero_grad()\n",
    "    loss.backward()\n",
    "    optimizer.step()\n",
    "\n",
    "\t\t# Storing the losses in a list for plotting\n",
    "    losses.append(loss.detach().cpu())\n"
   ]
  },
  {
   "cell_type": "code",
   "execution_count": 14,
   "metadata": {},
   "outputs": [
    {
     "data": {
      "text/plain": [
       "[<matplotlib.lines.Line2D at 0x22225dcf850>]"
      ]
     },
     "execution_count": 14,
     "metadata": {},
     "output_type": "execute_result"
    },
    {
     "data": {
      "image/png": "[encoded data removed]",
      "text/plain": [
       "<Figure size 432x288 with 1 Axes>"
      ]
     },
     "metadata": {
      "needs_background": "light"
     },
     "output_type": "display_data"
    }
   ],
   "source": [
    "plt.style.use('fivethirtyeight')\n",
    "plt.xlabel('Iterations')\n",
    "plt.ylabel('Loss')\n",
    " \n",
    "# Plotting the last 100 values\n",
    "plt.plot(losses)\n"
   ]
  },
  {
   "cell_type": "code",
   "execution_count": 15,
   "metadata": {},
   "outputs": [
    {
     "name": "stdout",
     "output_type": "stream",
     "text": [
      "tensor(0.1226)\n"
     ]
    }
   ],
   "source": [
    "print(sum(losses)/len(losses))\n"
   ]
  },
  {
   "cell_type": "code",
   "execution_count": 17,
   "metadata": {},
   "outputs": [
    {
     "name": "stdout",
     "output_type": "stream",
     "text": [
      "itteration: 300\r"
     ]
    },
    {
     "name": "stderr",
     "output_type": "stream",
     "text": [
      "c:\\Users\\speed\\AppData\\Local\\Programs\\Python\\Python310\\lib\\site-packages\\torch\\nn\\modules\\loss.py:535: UserWarning: Using a target size (torch.Size([36, 197])) that is different to the input size (torch.Size([36, 1])). This will likely lead to incorrect results due to broadcasting. Please ensure they have the same size.\n",
      "  return F.mse_loss(input, target, reduction=self.reduction)\n"
     ]
    }
   ],
   "source": [
    "losses = []\n",
    "for (image, output) in gdataloader:\n",
    "    if i > 500:\n",
    "        break\n",
    "    i += 1\n",
    "    if i % 10 == 0: print(f'itteration: {i}', end='\\r')\n",
    "    image = image.to(device)\n",
    "    output = output.to(device)\n",
    "    # Reshaping the image to (-1, 784)\n",
    "    #   image = image.reshape(-1, 28*28)\n",
    "      \n",
    "    # Output of Autoencoder\n",
    "    reconstructed = model.forward(image)\n",
    "      \n",
    "    # Calculating the loss function\n",
    "    loss = loss_function(reconstructed, image)\n",
    "\n",
    "\t\t# Storing the losses in a list for plotting\n",
    "    losses.append(loss.detach().cpu())\n"
   ]
  },
  {
   "cell_type": "code",
   "execution_count": 18,
   "metadata": {},
   "outputs": [
    {
     "name": "stdout",
     "output_type": "stream",
     "text": [
      "tensor(0.1060)\n"
     ]
    }
   ],
   "source": [
    "print(sum(losses)/len(losses))\n"
   ]
  }
 ],
 "metadata": {
  "kernelspec": {
   "display_name": "Python 3",
   "language": "python",
   "name": "python3"
  },
  "language_info": {
   "codemirror_mode": {
    "name": "ipython",
    "version": 3
   },
   "file_extension": ".py",
   "mimetype": "text/x-python",
   "name": "python",
   "nbconvert_exporter": "python",
   "pygments_lexer": "ipython3",
   "version": "3.10.8"
  }
 },
 "nbformat": 4,
 "nbformat_minor": 2
}

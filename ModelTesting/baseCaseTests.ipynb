{
 "cells": [
  {
   "cell_type": "code",
   "execution_count": 1,
   "metadata": {},
   "outputs": [],
   "source": [
    "import pandas as pd\n",
    "import numpy as np\n",
    "\n",
    "import sys; sys.path.append('../..') ; sys.path.append('../Dataset/'); \n",
    "from dataset import steamGamesDataset\n"
   ]
  },
  {
   "cell_type": "code",
   "execution_count": 32,
   "metadata": {},
   "outputs": [],
   "source": [
    "lhs_df = pd.read_csv('../Data/lhsDataset.csv')\n",
    "\n",
    "onehot = pd.read_clipboard('../Data/OneHotVectors.csv')\n",
    "\n",
    "\n",
    "rhs_df = pd.read_csv('../Data/rhs.csv')\n",
    "rhs_df = rhs_df['Median playtime forever'].to_frame()\n"
   ]
  },
  {
   "cell_type": "markdown",
   "metadata": {},
   "source": [
    "Lets Normalize Input"
   ]
  },
  {
   "cell_type": "code",
   "execution_count": 33,
   "metadata": {},
   "outputs": [],
   "source": [
    "lhs_df = (lhs_df.astype('Float64') - lhs_df.astype('Float64').min()) / (lhs_df.astype('Float64').max() - lhs_df.astype('Float64').min())\n"
   ]
  },
  {
   "cell_type": "markdown",
   "metadata": {},
   "source": [
    "Now let us train on some elementary models"
   ]
  },
  {
   "cell_type": "code",
   "execution_count": 46,
   "metadata": {},
   "outputs": [],
   "source": [
    "from sklearn.ensemble import AdaBoostRegressor, RandomForestRegressor\n",
    "from sklearn.linear_model import LinearRegression, SGDRegressor\n",
    "from sklearn.tree import DecisionTreeRegressor\n",
    "from sklearn.svm import SVR, LinearSVR\n",
    "from sklearn.neighbors import KNeighborsRegressor\n",
    "from sklearn.model_selection import train_test_split\n",
    "from sklearn.metrics import mean_absolute_error, mean_absolute_percentage_error\n"
   ]
  },
  {
   "cell_type": "code",
   "execution_count": 35,
   "metadata": {},
   "outputs": [
    {
     "data": {
      "text/plain": [
       "(50201, 36)"
      ]
     },
     "execution_count": 35,
     "metadata": {},
     "output_type": "execute_result"
    }
   ],
   "source": [
    "x_train, x_test, y_train, y_test = train_test_split(lhs_df, rhs_df.values.ravel(), test_size=0.3, random_state=0)\n",
    "x_train.shape\n"
   ]
  },
  {
   "cell_type": "code",
   "execution_count": 36,
   "metadata": {},
   "outputs": [
    {
     "name": "stdout",
     "output_type": "stream",
     "text": [
      "AdaBoost Training score-1.5703510424291576\n",
      "AdaBoost Testing score-2.17398814838985\n"
     ]
    }
   ],
   "source": [
    "regr = AdaBoostRegressor(random_state=0)\n",
    "regr.fit(x_train, y_train)\n",
    "print(f'AdaBoost Training score {regr.score(x_train, y_train)}')\n",
    "print(f'AdaBoost Testing score {regr.score(x_test, y_test)}')\n",
    "\n",
    "train_pred = regr.predict(x_train)\n",
    "test_pred = regr.predict(x_test)\n",
    "\n",
    "print(f'Train Errors:   MAE: {mean_absolute_error(y_train, train_pred)} MAPE: {mean_absolute_percentage_error(y_train, train_pred)}')\n",
    "print(f'Test Errors:   MAE: {mean_absolute_error(y_test, test_pred)} MAPE: {mean_absolute_percentage_error(y_test, test_pred)}')\n"
   ]
  },
  {
   "cell_type": "code",
   "execution_count": 39,
   "metadata": {},
   "outputs": [
    {
     "name": "stdout",
     "output_type": "stream",
     "text": [
      "Random Forest Training score0.8387597142654579\n",
      "Random Forest Testing score-0.10900047470936425\n"
     ]
    }
   ],
   "source": [
    "regr = RandomForestRegressor(random_state=0)\n",
    "regr.fit(x_train, y_train)\n",
    "print(f'Random Forest Training score {regr.score(x_train, y_train)}')\n",
    "print(f'Random Forest Testing score {regr.score(x_test, y_test)}')\n",
    "\n",
    "train_pred = regr.predict(x_train)\n",
    "test_pred = regr.predict(x_test)\n",
    "\n",
    "print(f'Train Errors:   MAE: {mean_absolute_error(y_train, train_pred)} MAPE: {mean_absolute_percentage_error(y_train, train_pred)}')\n",
    "print(f'Test Errors:   MAE: {mean_absolute_error(y_test, test_pred)} MAPE: {mean_absolute_percentage_error(y_test, test_pred)}')\n"
   ]
  },
  {
   "cell_type": "code",
   "execution_count": 44,
   "metadata": {},
   "outputs": [
    {
     "name": "stdout",
     "output_type": "stream",
     "text": [
      "Random Forest Training score 0.00858175477690959\n",
      "Random Forest Testing score 0.006673533896030648\n",
      "Train Errors:   MAE: 162.13580060027533 MAPE: 3.2253057122177363e+17\n",
      "Test Errors:   MAE: 165.69396233903507 MAPE: 3.267996635833555e+17\n"
     ]
    }
   ],
   "source": [
    "regr = LinearRegression()\n",
    "regr.fit(x_train, y_train)\n",
    "print(f'Linear Regression Training score {regr.score(x_train, y_train)}')\n",
    "print(f'Linear Regression Testing score {regr.score(x_test, y_test)}')\n",
    "\n",
    "train_pred = regr.predict(x_train)\n",
    "test_pred = regr.predict(x_test)\n",
    "\n",
    "print(f'Train Errors:   MAE: {mean_absolute_error(y_train, train_pred)} MAPE: {mean_absolute_percentage_error(y_train, train_pred)}')\n",
    "print(f'Test Errors:   MAE: {mean_absolute_error(y_test, test_pred)} MAPE: {mean_absolute_percentage_error(y_test, test_pred)}')\n"
   ]
  },
  {
   "cell_type": "code",
   "execution_count": 47,
   "metadata": {},
   "outputs": [
    {
     "name": "stdout",
     "output_type": "stream",
     "text": [
      "AdaBoost Training score 0.005809544378502118\n",
      "AdaBoost Testing score 0.005125093815810167\n",
      "Train Errors:   MAE: 173.26210007668183 MAPE: 3.60099085679644e+17\n",
      "Test Errors:   MAE: 176.01975626043006 MAPE: 3.6305815024751494e+17\n"
     ]
    }
   ],
   "source": [
    "regr = SGDRegressor()\n",
    "regr.fit(x_train, y_train)\n",
    "print(f'SGDRegressor Training score {regr.score(x_train, y_train)}')\n",
    "print(f'SGDRegressor Testing score {regr.score(x_test, y_test)}')\n",
    "\n",
    "train_pred = regr.predict(x_train)\n",
    "test_pred = regr.predict(x_test)\n",
    "\n",
    "print(f'Train Errors:   MAE: {mean_absolute_error(y_train, train_pred)} MAPE: {mean_absolute_percentage_error(y_train, train_pred)}')\n",
    "print(f'Test Errors:   MAE: {mean_absolute_error(y_test, test_pred)} MAPE: {mean_absolute_percentage_error(y_test, test_pred)}')\n"
   ]
  },
  {
   "cell_type": "code",
   "execution_count": 48,
   "metadata": {},
   "outputs": [
    {
     "name": "stdout",
     "output_type": "stream",
     "text": [
      "AdaBoost Training score 1.0\n",
      "AdaBoost Testing score -2.7100383749357007\n",
      "Train Errors:   MAE: 0.0 MAPE: 0.0\n",
      "Test Errors:   MAE: 185.2991401347897 MAPE: 1.0268479271228138e+17\n"
     ]
    }
   ],
   "source": [
    "regr = DecisionTreeRegressor(random_state=0)\n",
    "regr.fit(x_train, y_train)\n",
    "print(f'Decision Tree Training score {regr.score(x_train, y_train)}')\n",
    "print(f'Decision Tree Testing score {regr.score(x_test, y_test)}')\n",
    "\n",
    "train_pred = regr.predict(x_train)\n",
    "test_pred = regr.predict(x_test)\n",
    "\n",
    "print(f'Train Errors:   MAE: {mean_absolute_error(y_train, train_pred)} MAPE: {mean_absolute_percentage_error(y_train, train_pred)}')\n",
    "print(f'Test Errors:   MAE: {mean_absolute_error(y_test, test_pred)} MAPE: {mean_absolute_percentage_error(y_test, test_pred)}')\n"
   ]
  },
  {
   "cell_type": "code",
   "execution_count": 50,
   "metadata": {},
   "outputs": [
    {
     "name": "stdout",
     "output_type": "stream",
     "text": [
      "AdaBoost Training score -0.0023569011949566843\n",
      "AdaBoost Testing score -0.0023484245674787463\n",
      "Train Errors:   MAE: 102.99025872747306 MAPE: 7320648448979645.0\n",
      "Test Errors:   MAE: 105.5983656285847 MAPE: 7714082546637280.0\n"
     ]
    }
   ],
   "source": [
    "regr = SVR()\n",
    "regr.fit(x_train, y_train)\n",
    "print(f'SVR Training score {regr.score(x_train, y_train)}')\n",
    "print(f'SVR Testing score {regr.score(x_test, y_test)}')\n",
    "\n",
    "train_pred = regr.predict(x_train)\n",
    "test_pred = regr.predict(x_test)\n",
    "\n",
    "print(f'Train Errors:   MAE: {mean_absolute_error(y_train, train_pred)} MAPE: {mean_absolute_percentage_error(y_train, train_pred)}')\n",
    "print(f'Test Errors:   MAE: {mean_absolute_error(y_test, test_pred)} MAPE: {mean_absolute_percentage_error(y_test, test_pred)}')\n"
   ]
  },
  {
   "cell_type": "code",
   "execution_count": 52,
   "metadata": {},
   "outputs": [
    {
     "name": "stdout",
     "output_type": "stream",
     "text": [
      "LinearSVR Training score -0.002046669384440092\n",
      "LinearSVR Testing score -0.0020381205213861886\n",
      "Train Errors:   MAE: 102.73357167169749 MAPE: 7361121507902095.0\n",
      "Test Errors:   MAE: 105.23378678194864 MAPE: 7847110492302163.0\n"
     ]
    }
   ],
   "source": [
    "regr = LinearSVR()\n",
    "regr.fit(x_train, y_train)\n",
    "print(f'LinearSVR Training score {regr.score(x_train, y_train)}')\n",
    "print(f'LinearSVR Testing score {regr.score(x_test, y_test)}')\n",
    "\n",
    "train_pred = regr.predict(x_train)\n",
    "test_pred = regr.predict(x_test)\n",
    "\n",
    "print(f'Train Errors:   MAE: {mean_absolute_error(y_train, train_pred)} MAPE: {mean_absolute_percentage_error(y_train, train_pred)}')\n",
    "print(f'Test Errors:   MAE: {mean_absolute_error(y_test, test_pred)} MAPE: {mean_absolute_percentage_error(y_test, test_pred)}')\n"
   ]
  },
  {
   "cell_type": "code",
   "execution_count": 53,
   "metadata": {},
   "outputs": [
    {
     "name": "stdout",
     "output_type": "stream",
     "text": [
      "KNN Training score 0.2214014636671079\n",
      "KNN Testing score -0.1286966755356549\n",
      "Train Errors:   MAE: 131.00431067110216 MAPE: 1.8011133016236106e+17\n",
      "Test Errors:   MAE: 158.936332791076 MAPE: 2.349743633682665e+17\n"
     ]
    }
   ],
   "source": [
    "regr = KNeighborsRegressor()\n",
    "regr.fit(x_train, y_train)\n",
    "print(f'KNN Training score {regr.score(x_train, y_train)}')\n",
    "print(f'KNN Testing score {regr.score(x_test, y_test)}')\n",
    "\n",
    "train_pred = regr.predict(x_train)\n",
    "test_pred = regr.predict(x_test)\n",
    "\n",
    "print(f'Train Errors:   MAE: {mean_absolute_error(y_train, train_pred)} MAPE: {mean_absolute_percentage_error(y_train, train_pred)}')\n",
    "print(f'Test Errors:   MAE: {mean_absolute_error(y_test, test_pred)} MAPE: {mean_absolute_percentage_error(y_test, test_pred)}')\n"
   ]
  }
 ],
 "metadata": {
  "kernelspec": {
   "display_name": "Python 3",
   "language": "python",
   "name": "python3"
  },
  "language_info": {
   "codemirror_mode": {
    "name": "ipython",
    "version": 3
   },
   "file_extension": ".py",
   "mimetype": "text/x-python",
   "name": "python",
   "nbconvert_exporter": "python",
   "pygments_lexer": "ipython3",
   "version": "3.10.8"
  }
 },
 "nbformat": 4,
 "nbformat_minor": 2
}

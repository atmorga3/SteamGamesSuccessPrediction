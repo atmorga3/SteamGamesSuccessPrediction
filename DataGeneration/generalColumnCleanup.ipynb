{
 "cells": [
  {
   "cell_type": "code",
   "execution_count": 1,
   "metadata": {},
   "outputs": [],
   "source": [
    "import pandas as pd\n",
    "import numpy as np\n"
   ]
  },
  {
   "cell_type": "code",
   "execution_count": 2,
   "metadata": {},
   "outputs": [
    {
     "name": "stdout",
     "output_type": "stream",
     "text": [
      "<class 'pandas.core.frame.DataFrame'>\n",
      "RangeIndex: 71716 entries, 0 to 71715\n",
      "Data columns (total 39 columns):\n",
      " #   Column                      Non-Null Count  Dtype  \n",
      "---  ------                      --------------  -----  \n",
      " 0   AppID                       71716 non-null  int64  \n",
      " 1   Name                        71715 non-null  object \n",
      " 2   Release date                71716 non-null  object \n",
      " 3   Estimated owners            71716 non-null  object \n",
      " 4   Peak CCU                    71716 non-null  int64  \n",
      " 5   Required age                71716 non-null  int64  \n",
      " 6   Price                       71716 non-null  float64\n",
      " 7   DLC count                   71716 non-null  int64  \n",
      " 8   About the game              69280 non-null  object \n",
      " 9   Supported languages         71716 non-null  object \n",
      " 10  Full audio languages        71716 non-null  object \n",
      " 11  Reviews                     9167 non-null   object \n",
      " 12  Header image                71716 non-null  object \n",
      " 13  Website                     35073 non-null  object \n",
      " 14  Support url                 36250 non-null  object \n",
      " 15  Support email               60596 non-null  object \n",
      " 16  Windows                     71716 non-null  bool   \n",
      " 17  Mac                         71716 non-null  bool   \n",
      " 18  Linux                       71716 non-null  bool   \n",
      " 19  Metacritic score            71716 non-null  int64  \n",
      " 20  Metacritic url              3778 non-null   object \n",
      " 21  User score                  71716 non-null  int64  \n",
      " 22  Positive                    71716 non-null  int64  \n",
      " 23  Negative                    71716 non-null  int64  \n",
      " 24  Score rank                  42 non-null     float64\n",
      " 25  Achievements                71716 non-null  int64  \n",
      " 26  Recommendations             71716 non-null  int64  \n",
      " 27  Notes                       10442 non-null  object \n",
      " 28  Average playtime forever    71716 non-null  int64  \n",
      " 29  Average playtime two weeks  71716 non-null  int64  \n",
      " 30  Median playtime forever     71716 non-null  int64  \n",
      " 31  Median playtime two weeks   71716 non-null  int64  \n",
      " 32  Developers                  69255 non-null  object \n",
      " 33  Publishers                  68996 non-null  object \n",
      " 34  Categories                  68309 non-null  object \n",
      " 35  Genres                      69277 non-null  object \n",
      " 36  Tags                        57702 non-null  object \n",
      " 37  Screenshots                 70387 non-null  object \n",
      " 38  Movies                      66668 non-null  object \n",
      "dtypes: bool(3), float64(2), int64(14), object(20)\n",
      "memory usage: 19.9+ MB\n"
     ]
    }
   ],
   "source": [
    "games_df = pd.read_csv('../Data/games.csv')\n",
    "games_df.info()\n"
   ]
  },
  {
   "cell_type": "markdown",
   "metadata": {},
   "source": [
    "We will drop all one hot vector columns, NLP cols, and pointless columns"
   ]
  },
  {
   "cell_type": "code",
   "execution_count": 3,
   "metadata": {},
   "outputs": [
    {
     "name": "stdout",
     "output_type": "stream",
     "text": [
      "<class 'pandas.core.frame.DataFrame'>\n",
      "RangeIndex: 71716 entries, 0 to 71715\n",
      "Data columns (total 22 columns):\n",
      " #   Column            Non-Null Count  Dtype  \n",
      "---  ------            --------------  -----  \n",
      " 0   Release date      71716 non-null  object \n",
      " 1   Required age      71716 non-null  int64  \n",
      " 2   Price             71716 non-null  float64\n",
      " 3   DLC count         71716 non-null  int64  \n",
      " 4   Reviews           9167 non-null   object \n",
      " 5   Website           35073 non-null  object \n",
      " 6   Support url       36250 non-null  object \n",
      " 7   Support email     60596 non-null  object \n",
      " 8   Windows           71716 non-null  bool   \n",
      " 9   Mac               71716 non-null  bool   \n",
      " 10  Linux             71716 non-null  bool   \n",
      " 11  Metacritic score  71716 non-null  int64  \n",
      " 12  Metacritic url    3778 non-null   object \n",
      " 13  User score        71716 non-null  int64  \n",
      " 14  Positive          71716 non-null  int64  \n",
      " 15  Negative          71716 non-null  int64  \n",
      " 16  Achievements      71716 non-null  int64  \n",
      " 17  Recommendations   71716 non-null  int64  \n",
      " 18  Developers        69255 non-null  object \n",
      " 19  Publishers        68996 non-null  object \n",
      " 20  Screenshots       70387 non-null  object \n",
      " 21  Movies            66668 non-null  object \n",
      "dtypes: bool(3), float64(1), int64(8), object(10)\n",
      "memory usage: 10.6+ MB\n"
     ]
    }
   ],
   "source": [
    "drop_list = ['AppID', 'Name', 'About the game', 'Supported languages', \n",
    "             'Full audio languages', 'Notes', 'Categories',\n",
    "             'Genres', 'Tags', 'Score rank', 'Header image',\n",
    "             'Peak CCU', 'Estimated owners', 'Average playtime forever',\n",
    "             'Average playtime two weeks', 'Median playtime forever',\n",
    "             'Median playtime two weeks']\n",
    "\n",
    "strip_df = games_df.drop(drop_list, axis=1)\n",
    "strip_df.info()\n"
   ]
  },
  {
   "cell_type": "markdown",
   "metadata": {},
   "source": [
    "Carry over already complete features\n",
    "- Windows, Mac, Linux, DLC Count"
   ]
  },
  {
   "cell_type": "code",
   "execution_count": 4,
   "metadata": {},
   "outputs": [],
   "source": [
    "augment_df = strip_df[['Required age', 'Price', 'DLC count', 'Windows', 'Mac', 'Linux', 'Achievements']]\n"
   ]
  },
  {
   "cell_type": "markdown",
   "metadata": {},
   "source": [
    "Turn Release data into Release Month and Release Year Column"
   ]
  },
  {
   "cell_type": "code",
   "execution_count": 5,
   "metadata": {},
   "outputs": [
    {
     "name": "stderr",
     "output_type": "stream",
     "text": [
      "C:\\Users\\speed\\AppData\\Local\\Temp\\ipykernel_5032\\2520061079.py:3: SettingWithCopyWarning: \n",
      "A value is trying to be set on a copy of a slice from a DataFrame.\n",
      "Try using .loc[row_indexer,col_indexer] = value instead\n",
      "\n",
      "See the caveats in the documentation: https://pandas.pydata.org/pandas-docs/stable/user_guide/indexing.html#returning-a-view-versus-a-copy\n",
      "  augment_df['Release Month'] = strip_df['Release date'].map(lambda x: month_mapper[x[0:3]])\n",
      "C:\\Users\\speed\\AppData\\Local\\Temp\\ipykernel_5032\\2520061079.py:4: SettingWithCopyWarning: \n",
      "A value is trying to be set on a copy of a slice from a DataFrame.\n",
      "Try using .loc[row_indexer,col_indexer] = value instead\n",
      "\n",
      "See the caveats in the documentation: https://pandas.pydata.org/pandas-docs/stable/user_guide/indexing.html#returning-a-view-versus-a-copy\n",
      "  augment_df['Release Year'] = strip_df['Release date'].str.slice(-4).astype('Int32')\n"
     ]
    }
   ],
   "source": [
    "month_mapper = {'Jan': 1, 'Feb': 2, 'Mar': 3, 'Apr': 4, 'May': 5, 'Jun': 6, 'Jul': 7, 'Aug': 8, 'Sep': 9, 'Oct': 10, 'Nov': 11, 'Dec': 12}\n",
    "\n",
    "augment_df['Release Month'] = strip_df['Release date'].map(lambda x: month_mapper[x[0:3]])\n",
    "augment_df['Release Year'] = strip_df['Release date'].str.slice(-4).astype('Int32')\n",
    "# print(augment_df['Release Year'])\n"
   ]
  },
  {
   "cell_type": "markdown",
   "metadata": {},
   "source": [
    "Now Lets create is18+ column based on Age"
   ]
  },
  {
   "cell_type": "code",
   "execution_count": 6,
   "metadata": {},
   "outputs": [
    {
     "name": "stderr",
     "output_type": "stream",
     "text": [
      "C:\\Users\\speed\\AppData\\Local\\Temp\\ipykernel_5032\\1302993879.py:1: SettingWithCopyWarning: \n",
      "A value is trying to be set on a copy of a slice from a DataFrame.\n",
      "Try using .loc[row_indexer,col_indexer] = value instead\n",
      "\n",
      "See the caveats in the documentation: https://pandas.pydata.org/pandas-docs/stable/user_guide/indexing.html#returning-a-view-versus-a-copy\n",
      "  augment_df['is18plus'] = strip_df['Required age'].apply(lambda x: x >= 18)\n"
     ]
    }
   ],
   "source": [
    "augment_df['is18plus'] = strip_df['Required age'].apply(lambda x: x >= 18)\n",
    "# augment_df['is18plus']\n"
   ]
  },
  {
   "cell_type": "markdown",
   "metadata": {},
   "source": [
    "Now lets create isFreeToPlay column"
   ]
  },
  {
   "cell_type": "code",
   "execution_count": 7,
   "metadata": {},
   "outputs": [
    {
     "name": "stderr",
     "output_type": "stream",
     "text": [
      "C:\\Users\\speed\\AppData\\Local\\Temp\\ipykernel_5032\\749043890.py:1: SettingWithCopyWarning: \n",
      "A value is trying to be set on a copy of a slice from a DataFrame.\n",
      "Try using .loc[row_indexer,col_indexer] = value instead\n",
      "\n",
      "See the caveats in the documentation: https://pandas.pydata.org/pandas-docs/stable/user_guide/indexing.html#returning-a-view-versus-a-copy\n",
      "  augment_df['isFreeToPlay'] = ~strip_df['Price'].astype(bool)\n"
     ]
    },
    {
     "data": {
      "text/plain": [
       "0        False\n",
       "1        False\n",
       "2        False\n",
       "3        False\n",
       "4         True\n",
       "         ...  \n",
       "71711     True\n",
       "71712    False\n",
       "71713    False\n",
       "71714    False\n",
       "71715    False\n",
       "Name: isFreeToPlay, Length: 71716, dtype: bool"
      ]
     },
     "execution_count": 7,
     "metadata": {},
     "output_type": "execute_result"
    }
   ],
   "source": [
    "augment_df['isFreeToPlay'] = ~strip_df['Price'].astype(bool)\n",
    "augment_df['isFreeToPlay']\n"
   ]
  },
  {
   "cell_type": "markdown",
   "metadata": {},
   "source": [
    "Now lets create has DLC column"
   ]
  },
  {
   "cell_type": "code",
   "execution_count": 8,
   "metadata": {},
   "outputs": [
    {
     "name": "stderr",
     "output_type": "stream",
     "text": [
      "C:\\Users\\speed\\AppData\\Local\\Temp\\ipykernel_5032\\3406784605.py:1: SettingWithCopyWarning: \n",
      "A value is trying to be set on a copy of a slice from a DataFrame.\n",
      "Try using .loc[row_indexer,col_indexer] = value instead\n",
      "\n",
      "See the caveats in the documentation: https://pandas.pydata.org/pandas-docs/stable/user_guide/indexing.html#returning-a-view-versus-a-copy\n",
      "  augment_df['hasDLC'] = strip_df['DLC count'].astype(bool)\n"
     ]
    }
   ],
   "source": [
    "augment_df['hasDLC'] = strip_df['DLC count'].astype(bool)\n",
    "# augment_df['hasDLC']\n"
   ]
  },
  {
   "cell_type": "markdown",
   "metadata": {},
   "source": [
    "Now we create hasSupport column by combining support url, and support email; and hasWebsite Column"
   ]
  },
  {
   "cell_type": "code",
   "execution_count": 9,
   "metadata": {},
   "outputs": [
    {
     "name": "stderr",
     "output_type": "stream",
     "text": [
      "C:\\Users\\speed\\AppData\\Local\\Temp\\ipykernel_5032\\3536755130.py:1: SettingWithCopyWarning: \n",
      "A value is trying to be set on a copy of a slice from a DataFrame.\n",
      "Try using .loc[row_indexer,col_indexer] = value instead\n",
      "\n",
      "See the caveats in the documentation: https://pandas.pydata.org/pandas-docs/stable/user_guide/indexing.html#returning-a-view-versus-a-copy\n",
      "  augment_df['hasSupport'] = strip_df['Support url'].fillna('').astype(bool) | strip_df['Support email'].fillna('').astype(bool)\n",
      "C:\\Users\\speed\\AppData\\Local\\Temp\\ipykernel_5032\\3536755130.py:2: SettingWithCopyWarning: \n",
      "A value is trying to be set on a copy of a slice from a DataFrame.\n",
      "Try using .loc[row_indexer,col_indexer] = value instead\n",
      "\n",
      "See the caveats in the documentation: https://pandas.pydata.org/pandas-docs/stable/user_guide/indexing.html#returning-a-view-versus-a-copy\n",
      "  augment_df['hasWebsite'] = strip_df['Website'].fillna('').astype(bool)\n"
     ]
    }
   ],
   "source": [
    "augment_df['hasSupport'] = strip_df['Support url'].fillna('').astype(bool) | strip_df['Support email'].fillna('').astype(bool)\n",
    "augment_df['hasWebsite'] = strip_df['Website'].fillna('').astype(bool)\n",
    "# augment_df['hasSupport']\n"
   ]
  },
  {
   "cell_type": "markdown",
   "metadata": {},
   "source": [
    "Now we create a hasMedia Column based on Screenshots and Movies; we will also create a movieCount and screnshotCount Column"
   ]
  },
  {
   "cell_type": "code",
   "execution_count": 10,
   "metadata": {},
   "outputs": [
    {
     "name": "stderr",
     "output_type": "stream",
     "text": [
      "C:\\Users\\speed\\AppData\\Local\\Temp\\ipykernel_5032\\2568906669.py:1: SettingWithCopyWarning: \n",
      "A value is trying to be set on a copy of a slice from a DataFrame.\n",
      "Try using .loc[row_indexer,col_indexer] = value instead\n",
      "\n",
      "See the caveats in the documentation: https://pandas.pydata.org/pandas-docs/stable/user_guide/indexing.html#returning-a-view-versus-a-copy\n",
      "  augment_df['hasMedia'] = strip_df['Screenshots'].fillna('').astype(bool) | strip_df['Movies'].fillna('').astype(bool)\n",
      "C:\\Users\\speed\\AppData\\Local\\Temp\\ipykernel_5032\\2568906669.py:2: SettingWithCopyWarning: \n",
      "A value is trying to be set on a copy of a slice from a DataFrame.\n",
      "Try using .loc[row_indexer,col_indexer] = value instead\n",
      "\n",
      "See the caveats in the documentation: https://pandas.pydata.org/pandas-docs/stable/user_guide/indexing.html#returning-a-view-versus-a-copy\n",
      "  augment_df['movieCount'] = strip_df['Movies'].fillna('').str.split(',').str.len()\n",
      "C:\\Users\\speed\\AppData\\Local\\Temp\\ipykernel_5032\\2568906669.py:3: SettingWithCopyWarning: \n",
      "A value is trying to be set on a copy of a slice from a DataFrame.\n",
      "Try using .loc[row_indexer,col_indexer] = value instead\n",
      "\n",
      "See the caveats in the documentation: https://pandas.pydata.org/pandas-docs/stable/user_guide/indexing.html#returning-a-view-versus-a-copy\n",
      "  augment_df['screenshotCount'] = strip_df['Screenshots'].fillna('').str.split(',').str.len()\n"
     ]
    }
   ],
   "source": [
    "augment_df['hasMedia'] = strip_df['Screenshots'].fillna('').astype(bool) | strip_df['Movies'].fillna('').astype(bool)\n",
    "augment_df['movieCount'] = strip_df['Movies'].fillna('').str.split(',').str.len()\n",
    "augment_df['screenshotCount'] = strip_df['Screenshots'].fillna('').str.split(',').str.len()\n",
    "# augment_df['Screenshots']\n"
   ]
  },
  {
   "cell_type": "markdown",
   "metadata": {},
   "source": [
    "add positive, and negative review counts, and number of recomendations"
   ]
  },
  {
   "cell_type": "code",
   "execution_count": 11,
   "metadata": {},
   "outputs": [
    {
     "name": "stderr",
     "output_type": "stream",
     "text": [
      "C:\\Users\\speed\\AppData\\Local\\Temp\\ipykernel_5032\\1923047232.py:1: SettingWithCopyWarning: \n",
      "A value is trying to be set on a copy of a slice from a DataFrame.\n",
      "Try using .loc[row_indexer,col_indexer] = value instead\n",
      "\n",
      "See the caveats in the documentation: https://pandas.pydata.org/pandas-docs/stable/user_guide/indexing.html#returning-a-view-versus-a-copy\n",
      "  augment_df['posReviewCount'] = strip_df['Positive']\n",
      "C:\\Users\\speed\\AppData\\Local\\Temp\\ipykernel_5032\\1923047232.py:2: SettingWithCopyWarning: \n",
      "A value is trying to be set on a copy of a slice from a DataFrame.\n",
      "Try using .loc[row_indexer,col_indexer] = value instead\n",
      "\n",
      "See the caveats in the documentation: https://pandas.pydata.org/pandas-docs/stable/user_guide/indexing.html#returning-a-view-versus-a-copy\n",
      "  augment_df['posNegativeCount'] = strip_df['Negative']\n",
      "C:\\Users\\speed\\AppData\\Local\\Temp\\ipykernel_5032\\1923047232.py:3: SettingWithCopyWarning: \n",
      "A value is trying to be set on a copy of a slice from a DataFrame.\n",
      "Try using .loc[row_indexer,col_indexer] = value instead\n",
      "\n",
      "See the caveats in the documentation: https://pandas.pydata.org/pandas-docs/stable/user_guide/indexing.html#returning-a-view-versus-a-copy\n",
      "  augment_df['recommendationCount'] = strip_df['Recommendations']\n"
     ]
    }
   ],
   "source": [
    "augment_df['posReviewCount'] = strip_df['Positive']\n",
    "augment_df['posNegativeCount'] = strip_df['Negative']\n",
    "augment_df['recommendationCount'] = strip_df['Recommendations']\n"
   ]
  },
  {
   "cell_type": "markdown",
   "metadata": {},
   "source": [
    "Now lets turn Metacritic score into hasMetacriticScore and we will use the actual MetacriticScore as a part of the right hand side of the ml "
   ]
  },
  {
   "cell_type": "code",
   "execution_count": 12,
   "metadata": {},
   "outputs": [
    {
     "name": "stderr",
     "output_type": "stream",
     "text": [
      "C:\\Users\\speed\\AppData\\Local\\Temp\\ipykernel_5032\\101160248.py:1: SettingWithCopyWarning: \n",
      "A value is trying to be set on a copy of a slice from a DataFrame.\n",
      "Try using .loc[row_indexer,col_indexer] = value instead\n",
      "\n",
      "See the caveats in the documentation: https://pandas.pydata.org/pandas-docs/stable/user_guide/indexing.html#returning-a-view-versus-a-copy\n",
      "  augment_df['hasMetacriticScore'] = strip_df['Metacritic score'].astype(bool)\n"
     ]
    }
   ],
   "source": [
    "augment_df['hasMetacriticScore'] = strip_df['Metacritic score'].astype(bool)\n"
   ]
  },
  {
   "cell_type": "markdown",
   "metadata": {},
   "source": [
    "Now we just add a developerCount and PublisherCount column"
   ]
  },
  {
   "cell_type": "code",
   "execution_count": 13,
   "metadata": {},
   "outputs": [],
   "source": [
    "augment_df['devCount'] = strip_df['Developers'].fillna('').str.split(',').str.len()\n",
    "augment_df['pubCount'] = strip_df['Publishers'].fillna('').str.split(',').str.len()\n",
    "# augment_df['devCount']\n"
   ]
  },
  {
   "cell_type": "code",
   "execution_count": 14,
   "metadata": {},
   "outputs": [],
   "source": [
    "augment_df['reviewCount'] = strip_df['Reviews'].fillna('').str.split(r'\\”\\s*([^\\\"]*)\\s*\\“', regex=True).str.len()\n",
    "# augment_df['reviewCount']\n"
   ]
  },
  {
   "cell_type": "markdown",
   "metadata": {},
   "source": [
    "some final column renaming"
   ]
  },
  {
   "cell_type": "code",
   "execution_count": 15,
   "metadata": {},
   "outputs": [],
   "source": [
    "augment_df.rename({'Achievements': 'achievementCount'}, axis=1, inplace=True)\n"
   ]
  },
  {
   "cell_type": "code",
   "execution_count": 16,
   "metadata": {},
   "outputs": [],
   "source": [
    "augment_df.to_csv('../Data/augmented_data.csv')\n"
   ]
  }
 ],
 "metadata": {
  "kernelspec": {
   "display_name": "Python 3",
   "language": "python",
   "name": "python3"
  },
  "language_info": {
   "codemirror_mode": {
    "name": "ipython",
    "version": 3
   },
   "file_extension": ".py",
   "mimetype": "text/x-python",
   "name": "python",
   "nbconvert_exporter": "python",
   "pygments_lexer": "ipython3",
   "version": "3.10.8"
  }
 },
 "nbformat": 4,
 "nbformat_minor": 2
}

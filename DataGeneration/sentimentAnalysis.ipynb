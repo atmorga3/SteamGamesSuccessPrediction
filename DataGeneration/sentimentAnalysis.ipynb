{
 "cells": [
  {
   "cell_type": "markdown",
   "metadata": {},
   "source": [
    "Lets do sentiment Analysis"
   ]
  },
  {
   "cell_type": "code",
   "execution_count": 18,
   "metadata": {},
   "outputs": [],
   "source": [
    "import pandas as pd\n",
    "import numpy as np\n",
    "\n",
    "from vaderSentiment.vaderSentiment import SentimentIntensityAnalyzer\n",
    "\n",
    "import matplotlib.pyplot as plt\n",
    "%matplotlib inline\n"
   ]
  },
  {
   "cell_type": "code",
   "execution_count": 52,
   "metadata": {},
   "outputs": [],
   "source": [
    "data = pd.read_csv('../Data/games.csv')\n",
    "reviews_df = data['Reviews'].to_frame()\n",
    "notes_df = data['Notes'].to_frame()\n",
    "atg_df = data['About the game'].fillna('').to_frame()\n"
   ]
  },
  {
   "cell_type": "code",
   "execution_count": 54,
   "metadata": {},
   "outputs": [],
   "source": [
    "sentiment = SentimentIntensityAnalyzer()\n",
    "reviews_df = data['Reviews'].to_frame()\n",
    "temp_df = pd.DataFrame(0.0, index=reviews_df.index, columns=['Review_pos', 'Review_neu', 'Review_neg'])\n",
    "\n",
    "reviews_df['Review_pos'] = temp_df['Review_pos']\n",
    "reviews_df['Review_neu'] = temp_df['Review_neu']\n",
    "reviews_df['Review_neg'] = temp_df['Review_neg']\n",
    "\n",
    "\n",
    "reviews_df['Reviews'] = reviews_df['Reviews'].fillna('').str.split(r'\\”\\s*([^\\\"]*)\\s*\\“', regex=True)\n",
    "\n",
    "for i in range(len(reviews_df['Reviews'])):\n",
    "    # if pd.isnull(reviews_df['Reviews'][i]):\n",
    "    #     continue\n",
    "    # else:\n",
    "\treviews_df.loc[i, 'Review_pos'] += sentiment.polarity_scores(reviews_df['Reviews'][i])[\"pos\"]\n",
    "\treviews_df.loc[i, 'Review_neu'] += sentiment.polarity_scores(reviews_df['Reviews'][i])[\"neu\"]\n",
    "\treviews_df.loc[i, 'Review_neg'] += sentiment.polarity_scores(reviews_df['Reviews'][i])[\"neg\"]\n",
    "    \n",
    "reviews_df['revCount'] = reviews_df['Reviews'].str.len()\n",
    "    \n",
    "reviews_df = reviews_df.fillna(0.0)    \n",
    "reviews_df['Review_pos'] = reviews_df['Review_pos'] / reviews_df['revCount']\n",
    "        \n",
    "\n",
    "\n"
   ]
  },
  {
   "cell_type": "code",
   "execution_count": 55,
   "metadata": {},
   "outputs": [],
   "source": [
    "sentiment = SentimentIntensityAnalyzer()\n",
    "\n",
    "notes_df['Notes_pos'] = 0.0\n",
    "notes_df['Notes_neu'] = 0.0\n",
    "notes_df['Notes_neg'] = 0.0\n",
    "\n",
    "for i in range(len(notes_df['Notes'])):\n",
    "    if pd.isnull(notes_df['Notes'][i]):\n",
    "        continue\n",
    "    else:\n",
    "        notes_df.loc[i, 'Notes_pos'] = sentiment.polarity_scores(notes_df['Notes'][i])[\"pos\"]\n",
    "        notes_df.loc[i, 'Notes_neu'] = sentiment.polarity_scores(notes_df['Notes'][i])[\"neu\"]\n",
    "        notes_df.loc[i, 'Notes_neg'] = sentiment.polarity_scores(notes_df['Notes'][i])[\"neg\"]\n",
    "        \n",
    "notes_df = notes_df.fillna(0.0)\n"
   ]
  },
  {
   "cell_type": "code",
   "execution_count": 22,
   "metadata": {},
   "outputs": [],
   "source": [
    "sentiment = SentimentIntensityAnalyzer()\n",
    "\n",
    "atg_df['atg_pos'] = 0.0\n",
    "atg_df['atg_neu'] = 0.0\n",
    "atg_df['atg_neg'] = 0.0\n",
    "\n",
    "for i in range(len(atg_df['About the game'])):\n",
    "    if pd.isnull(atg_df['About the game'][i]):\n",
    "        continue\n",
    "    else:\n",
    "        atg_df.loc[i, 'atg_pos'] = sentiment.polarity_scores(atg_df['About the game'][i])[\"pos\"]\n",
    "        atg_df.loc[i, 'atg_neu'] = sentiment.polarity_scores(atg_df['About the game'][i])[\"neu\"]\n",
    "        atg_df.loc[i, 'atg_neg'] = sentiment.polarity_scores(atg_df['About the game'][i])[\"neg\"]\n"
   ]
  },
  {
   "cell_type": "code",
   "execution_count": 28,
   "metadata": {},
   "outputs": [],
   "source": [
    "atg_df = atg_df.fillna(0.0)\n"
   ]
  },
  {
   "cell_type": "code",
   "execution_count": 62,
   "metadata": {},
   "outputs": [
    {
     "data": {
      "text/html": [
       "<div>\n",
       "<style scoped>\n",
       "    .dataframe tbody tr th:only-of-type {\n",
       "        vertical-align: middle;\n",
       "    }\n",
       "\n",
       "    .dataframe tbody tr th {\n",
       "        vertical-align: top;\n",
       "    }\n",
       "\n",
       "    .dataframe thead th {\n",
       "        text-align: right;\n",
       "    }\n",
       "</style>\n",
       "<table border=\"1\" class=\"dataframe\">\n",
       "  <thead>\n",
       "    <tr style=\"text-align: right;\">\n",
       "      <th></th>\n",
       "      <th>Review_pos</th>\n",
       "      <th>Review_neu</th>\n",
       "      <th>Review_neg</th>\n",
       "      <th>Notes_pos</th>\n",
       "      <th>Notes_neu</th>\n",
       "      <th>Notes_neg</th>\n",
       "      <th>atg_pos</th>\n",
       "      <th>atg_neu</th>\n",
       "      <th>atg_neg</th>\n",
       "    </tr>\n",
       "  </thead>\n",
       "  <tbody>\n",
       "    <tr>\n",
       "      <th>0</th>\n",
       "      <td>0.0</td>\n",
       "      <td>0.0</td>\n",
       "      <td>0.0</td>\n",
       "      <td>0.0</td>\n",
       "      <td>0.000</td>\n",
       "      <td>0.000</td>\n",
       "      <td>0.162</td>\n",
       "      <td>0.809</td>\n",
       "      <td>0.029</td>\n",
       "    </tr>\n",
       "    <tr>\n",
       "      <th>1</th>\n",
       "      <td>0.0</td>\n",
       "      <td>0.0</td>\n",
       "      <td>0.0</td>\n",
       "      <td>0.0</td>\n",
       "      <td>0.000</td>\n",
       "      <td>0.000</td>\n",
       "      <td>0.053</td>\n",
       "      <td>0.684</td>\n",
       "      <td>0.263</td>\n",
       "    </tr>\n",
       "    <tr>\n",
       "      <th>2</th>\n",
       "      <td>0.0</td>\n",
       "      <td>0.0</td>\n",
       "      <td>0.0</td>\n",
       "      <td>0.0</td>\n",
       "      <td>0.000</td>\n",
       "      <td>0.000</td>\n",
       "      <td>0.197</td>\n",
       "      <td>0.651</td>\n",
       "      <td>0.152</td>\n",
       "    </tr>\n",
       "    <tr>\n",
       "      <th>3</th>\n",
       "      <td>0.0</td>\n",
       "      <td>0.0</td>\n",
       "      <td>0.0</td>\n",
       "      <td>0.0</td>\n",
       "      <td>0.000</td>\n",
       "      <td>0.000</td>\n",
       "      <td>0.147</td>\n",
       "      <td>0.762</td>\n",
       "      <td>0.092</td>\n",
       "    </tr>\n",
       "    <tr>\n",
       "      <th>4</th>\n",
       "      <td>0.0</td>\n",
       "      <td>0.0</td>\n",
       "      <td>0.0</td>\n",
       "      <td>0.1</td>\n",
       "      <td>0.753</td>\n",
       "      <td>0.147</td>\n",
       "      <td>0.158</td>\n",
       "      <td>0.825</td>\n",
       "      <td>0.017</td>\n",
       "    </tr>\n",
       "  </tbody>\n",
       "</table>\n",
       "</div>"
      ],
      "text/plain": [
       "   Review_pos  Review_neu  Review_neg  Notes_pos  Notes_neu  Notes_neg  \\\n",
       "0         0.0         0.0         0.0        0.0      0.000      0.000   \n",
       "1         0.0         0.0         0.0        0.0      0.000      0.000   \n",
       "2         0.0         0.0         0.0        0.0      0.000      0.000   \n",
       "3         0.0         0.0         0.0        0.0      0.000      0.000   \n",
       "4         0.0         0.0         0.0        0.1      0.753      0.147   \n",
       "\n",
       "   atg_pos  atg_neu  atg_neg  \n",
       "0    0.162    0.809    0.029  \n",
       "1    0.053    0.684    0.263  \n",
       "2    0.197    0.651    0.152  \n",
       "3    0.147    0.762    0.092  \n",
       "4    0.158    0.825    0.017  "
      ]
     },
     "execution_count": 62,
     "metadata": {},
     "output_type": "execute_result"
    }
   ],
   "source": [
    "output_df = pd.concat([reviews_df, notes_df, atg_df], axis=1)\n",
    "output_df.drop(['revCount', 'Reviews', 'Notes', 'About the game'], axis=1, inplace=True)\n",
    "# output_df['Review_pos'][11]\n",
    "output_df.head()\n"
   ]
  },
  {
   "cell_type": "code",
   "execution_count": 63,
   "metadata": {},
   "outputs": [],
   "source": [
    "output_df.to_csv('../Data/sentiment.csv')\n"
   ]
  }
 ],
 "metadata": {
  "kernelspec": {
   "display_name": "Python 3",
   "language": "python",
   "name": "python3"
  },
  "language_info": {
   "codemirror_mode": {
    "name": "ipython",
    "version": 3
   },
   "file_extension": ".py",
   "mimetype": "text/x-python",
   "name": "python",
   "nbconvert_exporter": "python",
   "pygments_lexer": "ipython3",
   "version": "3.10.8"
  }
 },
 "nbformat": 4,
 "nbformat_minor": 2
}

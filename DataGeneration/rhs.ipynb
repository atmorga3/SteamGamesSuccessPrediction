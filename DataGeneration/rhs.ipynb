{
 "cells": [
  {
   "cell_type": "code",
   "execution_count": 1,
   "metadata": {},
   "outputs": [],
   "source": [
    "import pandas as pd\n"
   ]
  },
  {
   "cell_type": "code",
   "execution_count": 5,
   "metadata": {},
   "outputs": [],
   "source": [
    "games_df = pd.read_csv('../Data/games.csv')\n"
   ]
  },
  {
   "cell_type": "code",
   "execution_count": 8,
   "metadata": {},
   "outputs": [
    {
     "data": {
      "text/plain": [
       "<bound method DataFrame.info of        Average playtime forever  Median playtime forever\n",
       "0                             0                        0\n",
       "1                             0                        0\n",
       "2                             0                        0\n",
       "3                             0                        0\n",
       "4                             0                        0\n",
       "...                         ...                      ...\n",
       "71711                         0                        0\n",
       "71712                         0                        0\n",
       "71713                         0                        0\n",
       "71714                         0                        0\n",
       "71715                         0                        0\n",
       "\n",
       "[71716 rows x 2 columns]>"
      ]
     },
     "execution_count": 8,
     "metadata": {},
     "output_type": "execute_result"
    }
   ],
   "source": [
    "rhs_df = games_df[['Average playtime forever', 'Median playtime forever']]\n",
    "rhs_df.info\n"
   ]
  }
 ],
 "metadata": {
  "kernelspec": {
   "display_name": "Python 3",
   "language": "python",
   "name": "python3"
  },
  "language_info": {
   "codemirror_mode": {
    "name": "ipython",
    "version": 3
   },
   "file_extension": ".py",
   "mimetype": "text/x-python",
   "name": "python",
   "nbconvert_exporter": "python",
   "pygments_lexer": "ipython3",
   "version": "3.10.8"
  }
 },
 "nbformat": 4,
 "nbformat_minor": 2
}
